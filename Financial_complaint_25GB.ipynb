{
 "cells": [
  {
   "cell_type": "code",
   "execution_count": 43,
   "metadata": {
    "id": "UnhlhykJu2TF"
   },
   "outputs": [],
   "source": [
    "import os \n",
    "os.environ['KAGGLE_CONFIG_DIR'] = '/content'"
   ]
  },
  {
   "cell_type": "code",
   "execution_count": 44,
   "metadata": {
    "id": "ZHb0TQobY_2g"
   },
   "outputs": [],
   "source": [
    "import numpy as np\n",
    "from sklearn.model_selection import train_test_split\n",
    "from sklearn.feature_extraction.text import CountVectorizer\n",
    "from sklearn.feature_extraction.text import TfidfTransformer\n",
    "from sklearn.naive_bayes import MultinomialNB\n",
    "from sklearn.linear_model import LogisticRegression\n",
    "from sklearn.ensemble import RandomForestClassifier\n",
    "from sklearn.svm import LinearSVC\n",
    "from sklearn.metrics import confusion_matrix\n",
    "from sklearn.metrics import classification_report\n",
    "from sklearn.model_selection import cross_val_score\n",
    "import seaborn as sns"
   ]
  },
  {
   "cell_type": "code",
   "execution_count": 45,
   "metadata": {
    "colab": {
     "base_uri": "https://localhost:8080/"
    },
    "id": "awfqzal0u2QM",
    "outputId": "8910c083-815e-4e90-9abb-7511e7231c70"
   },
   "outputs": [
    {
     "name": "stdout",
     "output_type": "stream",
     "text": [
      "Warning: Your Kaggle API key is readable by other users on this system! To fix this, you can run 'chmod 600 /content/kaggle.json'\n",
      "consumer-complaint-database.zip: Skipping, found more recently modified local copy (use --force to force download)\n"
     ]
    }
   ],
   "source": [
    "!kaggle datasets download -d selener/consumer-complaint-database"
   ]
  },
  {
   "cell_type": "code",
   "execution_count": 46,
   "metadata": {
    "colab": {
     "base_uri": "https://localhost:8080/"
    },
    "id": "udnVpVao1sIe",
    "outputId": "103f9496-69ea-4401-899f-d93fa85db789"
   },
   "outputs": [
    {
     "name": "stdout",
     "output_type": "stream",
     "text": [
      "Drive already mounted at /content/drive; to attempt to forcibly remount, call drive.mount(\"/content/drive\", force_remount=True).\n"
     ]
    }
   ],
   "source": [
    "from google.colab import drive\n",
    "drive.mount('/content/drive')"
   ]
  },
  {
   "cell_type": "code",
   "execution_count": 47,
   "metadata": {
    "id": "CPN4l8gvu2bB"
   },
   "outputs": [],
   "source": [
    "import zipfile\n",
    "\n",
    "\n",
    "zip_ref = zipfile.ZipFile(\"/content/consumer-complaint-database.zip\", 'r')\n",
    "zip_ref.extractall()\n"
   ]
  },
  {
   "cell_type": "code",
   "execution_count": 48,
   "metadata": {
    "colab": {
     "base_uri": "https://localhost:8080/",
     "height": 586
    },
    "id": "1keNjgon3CQ9",
    "outputId": "567dddd6-b1bb-488d-e3ef-f7aeda04206f"
   },
   "outputs": [
    {
     "name": "stderr",
     "output_type": "stream",
     "text": [
      "/usr/local/lib/python3.6/dist-packages/IPython/core/interactiveshell.py:2718: DtypeWarning: Columns (4,5,6,11,16) have mixed types.Specify dtype option on import or set low_memory=False.\n",
      "  interactivity=interactivity, compiler=compiler, result=result)\n"
     ]
    },
    {
     "data": {
      "text/html": [
       "<div>\n",
       "<style scoped>\n",
       "    .dataframe tbody tr th:only-of-type {\n",
       "        vertical-align: middle;\n",
       "    }\n",
       "\n",
       "    .dataframe tbody tr th {\n",
       "        vertical-align: top;\n",
       "    }\n",
       "\n",
       "    .dataframe thead th {\n",
       "        text-align: right;\n",
       "    }\n",
       "</style>\n",
       "<table border=\"1\" class=\"dataframe\">\n",
       "  <thead>\n",
       "    <tr style=\"text-align: right;\">\n",
       "      <th></th>\n",
       "      <th>Date received</th>\n",
       "      <th>Product</th>\n",
       "      <th>Sub-product</th>\n",
       "      <th>Issue</th>\n",
       "      <th>Sub-issue</th>\n",
       "      <th>Consumer complaint narrative</th>\n",
       "      <th>Company public response</th>\n",
       "      <th>Company</th>\n",
       "      <th>State</th>\n",
       "      <th>ZIP code</th>\n",
       "      <th>Tags</th>\n",
       "      <th>Consumer consent provided?</th>\n",
       "      <th>Submitted via</th>\n",
       "      <th>Date sent to company</th>\n",
       "      <th>Company response to consumer</th>\n",
       "      <th>Timely response?</th>\n",
       "      <th>Consumer disputed?</th>\n",
       "      <th>Complaint ID</th>\n",
       "    </tr>\n",
       "  </thead>\n",
       "  <tbody>\n",
       "    <tr>\n",
       "      <th>0</th>\n",
       "      <td>05/10/2019</td>\n",
       "      <td>Checking or savings account</td>\n",
       "      <td>Checking account</td>\n",
       "      <td>Managing an account</td>\n",
       "      <td>Problem using a debit or ATM card</td>\n",
       "      <td>NaN</td>\n",
       "      <td>NaN</td>\n",
       "      <td>NAVY FEDERAL CREDIT UNION</td>\n",
       "      <td>FL</td>\n",
       "      <td>328XX</td>\n",
       "      <td>Older American</td>\n",
       "      <td>NaN</td>\n",
       "      <td>Web</td>\n",
       "      <td>05/10/2019</td>\n",
       "      <td>In progress</td>\n",
       "      <td>Yes</td>\n",
       "      <td>NaN</td>\n",
       "      <td>3238275</td>\n",
       "    </tr>\n",
       "    <tr>\n",
       "      <th>1</th>\n",
       "      <td>05/10/2019</td>\n",
       "      <td>Checking or savings account</td>\n",
       "      <td>Other banking product or service</td>\n",
       "      <td>Managing an account</td>\n",
       "      <td>Deposits and withdrawals</td>\n",
       "      <td>NaN</td>\n",
       "      <td>NaN</td>\n",
       "      <td>BOEING EMPLOYEES CREDIT UNION</td>\n",
       "      <td>WA</td>\n",
       "      <td>98204</td>\n",
       "      <td>NaN</td>\n",
       "      <td>NaN</td>\n",
       "      <td>Referral</td>\n",
       "      <td>05/10/2019</td>\n",
       "      <td>Closed with explanation</td>\n",
       "      <td>Yes</td>\n",
       "      <td>NaN</td>\n",
       "      <td>3238228</td>\n",
       "    </tr>\n",
       "    <tr>\n",
       "      <th>2</th>\n",
       "      <td>05/10/2019</td>\n",
       "      <td>Debt collection</td>\n",
       "      <td>Payday loan debt</td>\n",
       "      <td>Communication tactics</td>\n",
       "      <td>Frequent or repeated calls</td>\n",
       "      <td>NaN</td>\n",
       "      <td>NaN</td>\n",
       "      <td>CURO Intermediate Holdings</td>\n",
       "      <td>TX</td>\n",
       "      <td>751XX</td>\n",
       "      <td>NaN</td>\n",
       "      <td>NaN</td>\n",
       "      <td>Web</td>\n",
       "      <td>05/10/2019</td>\n",
       "      <td>Closed with explanation</td>\n",
       "      <td>Yes</td>\n",
       "      <td>NaN</td>\n",
       "      <td>3237964</td>\n",
       "    </tr>\n",
       "    <tr>\n",
       "      <th>3</th>\n",
       "      <td>05/10/2019</td>\n",
       "      <td>Credit reporting, credit repair services, or o...</td>\n",
       "      <td>Credit reporting</td>\n",
       "      <td>Incorrect information on your report</td>\n",
       "      <td>Old information reappears or never goes away</td>\n",
       "      <td>NaN</td>\n",
       "      <td>NaN</td>\n",
       "      <td>Ad Astra Recovery Services Inc</td>\n",
       "      <td>LA</td>\n",
       "      <td>708XX</td>\n",
       "      <td>NaN</td>\n",
       "      <td>NaN</td>\n",
       "      <td>Web</td>\n",
       "      <td>05/10/2019</td>\n",
       "      <td>Closed with explanation</td>\n",
       "      <td>Yes</td>\n",
       "      <td>NaN</td>\n",
       "      <td>3238479</td>\n",
       "    </tr>\n",
       "    <tr>\n",
       "      <th>4</th>\n",
       "      <td>05/10/2019</td>\n",
       "      <td>Checking or savings account</td>\n",
       "      <td>Checking account</td>\n",
       "      <td>Managing an account</td>\n",
       "      <td>Banking errors</td>\n",
       "      <td>NaN</td>\n",
       "      <td>NaN</td>\n",
       "      <td>ALLY FINANCIAL INC.</td>\n",
       "      <td>AZ</td>\n",
       "      <td>85205</td>\n",
       "      <td>NaN</td>\n",
       "      <td>NaN</td>\n",
       "      <td>Postal mail</td>\n",
       "      <td>05/10/2019</td>\n",
       "      <td>In progress</td>\n",
       "      <td>Yes</td>\n",
       "      <td>NaN</td>\n",
       "      <td>3238460</td>\n",
       "    </tr>\n",
       "  </tbody>\n",
       "</table>\n",
       "</div>"
      ],
      "text/plain": [
       "  Date received  ... Complaint ID\n",
       "0    05/10/2019  ...      3238275\n",
       "1    05/10/2019  ...      3238228\n",
       "2    05/10/2019  ...      3237964\n",
       "3    05/10/2019  ...      3238479\n",
       "4    05/10/2019  ...      3238460\n",
       "\n",
       "[5 rows x 18 columns]"
      ]
     },
     "execution_count": 48,
     "metadata": {
      "tags": []
     },
     "output_type": "execute_result"
    }
   ],
   "source": [
    "import pandas as pd\n",
    "df = pd.read_csv('/content/rows.csv' ) \n",
    "df.head() "
   ]
  },
  {
   "cell_type": "code",
   "execution_count": 49,
   "metadata": {
    "colab": {
     "base_uri": "https://localhost:8080/"
    },
    "id": "dmnW1NUSVYgl",
    "outputId": "dcf3b09b-5e02-4c7e-ac44-dc545b6ab8e7"
   },
   "outputs": [
    {
     "data": {
      "text/plain": [
       "(1282355, 18)"
      ]
     },
     "execution_count": 49,
     "metadata": {
      "tags": []
     },
     "output_type": "execute_result"
    }
   ],
   "source": [
    "df.shape"
   ]
  },
  {
   "cell_type": "code",
   "execution_count": 50,
   "metadata": {
    "colab": {
     "base_uri": "https://localhost:8080/"
    },
    "id": "6kUyqdTbVbx6",
    "outputId": "b67f5039-967f-40e0-d0b6-fa1b8ae3c3da"
   },
   "outputs": [
    {
     "data": {
      "text/plain": [
       "Date received                         0\n",
       "Product                               0\n",
       "Sub-product                      235166\n",
       "Issue                                 0\n",
       "Sub-issue                        531186\n",
       "Consumer complaint narrative     898791\n",
       "Company public response          833273\n",
       "Company                               0\n",
       "State                             19400\n",
       "ZIP code                         115298\n",
       "Tags                            1106712\n",
       "Consumer consent provided?       591701\n",
       "Submitted via                         0\n",
       "Date sent to company                  0\n",
       "Company response to consumer          7\n",
       "Timely response?                      0\n",
       "Consumer disputed?               513854\n",
       "Complaint ID                          0\n",
       "dtype: int64"
      ]
     },
     "execution_count": 50,
     "metadata": {
      "tags": []
     },
     "output_type": "execute_result"
    }
   ],
   "source": [
    "df.isna().sum()"
   ]
  },
  {
   "cell_type": "code",
   "execution_count": 51,
   "metadata": {
    "colab": {
     "base_uri": "https://localhost:8080/"
    },
    "id": "lAD-MKRCVvEH",
    "outputId": "50b8442a-a791-4733-bc13-2ca4292378cb"
   },
   "outputs": [
    {
     "data": {
      "text/plain": [
       "(383564, 2)"
      ]
     },
     "execution_count": 51,
     "metadata": {
      "tags": []
     },
     "output_type": "execute_result"
    }
   ],
   "source": [
    "df1 = df[['Product', 'Consumer complaint narrative']].copy()\n",
    "\n",
    "# Remove missing values (NaN)\n",
    "df1 = df1[pd.notnull(df1['Consumer complaint narrative'])]\n",
    "\n",
    "# Renaming second column for a simpler name\n",
    "df1.columns = ['Product', 'Consumer_complaint'] \n",
    "\n",
    "df1.shape"
   ]
  },
  {
   "cell_type": "markdown",
   "metadata": {
    "id": "wqeKMZeS9UCA"
   },
   "source": [
    "For this project, we need only two columns — “Product” and “Consumer complaint narrative”."
   ]
  },
  {
   "cell_type": "code",
   "execution_count": 52,
   "metadata": {
    "colab": {
     "base_uri": "https://localhost:8080/"
    },
    "id": "0ZLQiNQsW9nj",
    "outputId": "1d82bdbf-691c-44d7-8a6b-9c1868354826"
   },
   "outputs": [
    {
     "data": {
      "text/plain": [
       "array([['Checking or savings account'],\n",
       "       ['Debt collection'],\n",
       "       ['Credit reporting, credit repair services, or other personal consumer reports'],\n",
       "       ['Mortgage'],\n",
       "       ['Student loan'],\n",
       "       ['Vehicle loan or lease'],\n",
       "       ['Credit card or prepaid card'],\n",
       "       ['Payday loan, title loan, or personal loan'],\n",
       "       ['Money transfer, virtual currency, or money service'],\n",
       "       ['Credit reporting'],\n",
       "       ['Credit card'],\n",
       "       ['Bank account or service'],\n",
       "       ['Consumer Loan'],\n",
       "       ['Prepaid card'],\n",
       "       ['Other financial service'],\n",
       "       ['Payday loan'],\n",
       "       ['Money transfers'],\n",
       "       ['Virtual currency']], dtype=object)"
      ]
     },
     "execution_count": 52,
     "metadata": {
      "tags": []
     },
     "output_type": "execute_result"
    }
   ],
   "source": [
    "pd.DataFrame(df.Product.unique()).values"
   ]
  },
  {
   "cell_type": "code",
   "execution_count": 53,
   "metadata": {
    "id": "RTUzYFwFXFmr"
   },
   "outputs": [],
   "source": [
    "# Because the computation is time consuming (in terms of CPU), the data was sampled\n",
    "df2 = df1.sample(10000, random_state=1).copy()"
   ]
  },
  {
   "cell_type": "code",
   "execution_count": 54,
   "metadata": {
    "id": "SNHOcetjXFrb"
   },
   "outputs": [],
   "source": [
    "# Renaming categories\n",
    "df2.replace({'Product': \n",
    "             {'Credit reporting, credit repair services, or other personal consumer reports': \n",
    "              'Credit reporting, repair, or other', \n",
    "              'Credit reporting': 'Credit reporting, repair, or other',\n",
    "             'Credit card': 'Credit card or prepaid card',\n",
    "             'Prepaid card': 'Credit card or prepaid card',\n",
    "             'Payday loan': 'Payday loan, title loan, or personal loan',\n",
    "             'Money transfer': 'Money transfer, virtual currency, or money service',\n",
    "             'Virtual currency': 'Money transfer, virtual currency, or money service'}}, \n",
    "            inplace= True)"
   ]
  },
  {
   "cell_type": "code",
   "execution_count": 55,
   "metadata": {
    "colab": {
     "base_uri": "https://localhost:8080/",
     "height": 432
    },
    "id": "qmqR8VJXXY5C",
    "outputId": "ef6c25ad-07dd-4454-f2ab-da1376adb698"
   },
   "outputs": [
    {
     "data": {
      "text/html": [
       "<div>\n",
       "<style scoped>\n",
       "    .dataframe tbody tr th:only-of-type {\n",
       "        vertical-align: middle;\n",
       "    }\n",
       "\n",
       "    .dataframe tbody tr th {\n",
       "        vertical-align: top;\n",
       "    }\n",
       "\n",
       "    .dataframe thead th {\n",
       "        text-align: right;\n",
       "    }\n",
       "</style>\n",
       "<table border=\"1\" class=\"dataframe\">\n",
       "  <thead>\n",
       "    <tr style=\"text-align: right;\">\n",
       "      <th></th>\n",
       "      <th>0</th>\n",
       "    </tr>\n",
       "  </thead>\n",
       "  <tbody>\n",
       "    <tr>\n",
       "      <th>0</th>\n",
       "      <td>Credit reporting, repair, or other</td>\n",
       "    </tr>\n",
       "    <tr>\n",
       "      <th>1</th>\n",
       "      <td>Debt collection</td>\n",
       "    </tr>\n",
       "    <tr>\n",
       "      <th>2</th>\n",
       "      <td>Consumer Loan</td>\n",
       "    </tr>\n",
       "    <tr>\n",
       "      <th>3</th>\n",
       "      <td>Credit card or prepaid card</td>\n",
       "    </tr>\n",
       "    <tr>\n",
       "      <th>4</th>\n",
       "      <td>Mortgage</td>\n",
       "    </tr>\n",
       "    <tr>\n",
       "      <th>5</th>\n",
       "      <td>Vehicle loan or lease</td>\n",
       "    </tr>\n",
       "    <tr>\n",
       "      <th>6</th>\n",
       "      <td>Student loan</td>\n",
       "    </tr>\n",
       "    <tr>\n",
       "      <th>7</th>\n",
       "      <td>Payday loan, title loan, or personal loan</td>\n",
       "    </tr>\n",
       "    <tr>\n",
       "      <th>8</th>\n",
       "      <td>Checking or savings account</td>\n",
       "    </tr>\n",
       "    <tr>\n",
       "      <th>9</th>\n",
       "      <td>Bank account or service</td>\n",
       "    </tr>\n",
       "    <tr>\n",
       "      <th>10</th>\n",
       "      <td>Money transfer, virtual currency, or money ser...</td>\n",
       "    </tr>\n",
       "    <tr>\n",
       "      <th>11</th>\n",
       "      <td>Money transfers</td>\n",
       "    </tr>\n",
       "    <tr>\n",
       "      <th>12</th>\n",
       "      <td>Other financial service</td>\n",
       "    </tr>\n",
       "  </tbody>\n",
       "</table>\n",
       "</div>"
      ],
      "text/plain": [
       "                                                    0\n",
       "0                  Credit reporting, repair, or other\n",
       "1                                     Debt collection\n",
       "2                                       Consumer Loan\n",
       "3                         Credit card or prepaid card\n",
       "4                                            Mortgage\n",
       "5                               Vehicle loan or lease\n",
       "6                                        Student loan\n",
       "7           Payday loan, title loan, or personal loan\n",
       "8                         Checking or savings account\n",
       "9                             Bank account or service\n",
       "10  Money transfer, virtual currency, or money ser...\n",
       "11                                    Money transfers\n",
       "12                            Other financial service"
      ]
     },
     "execution_count": 55,
     "metadata": {
      "tags": []
     },
     "output_type": "execute_result"
    }
   ],
   "source": [
    "pd.DataFrame(df2.Product.unique())"
   ]
  },
  {
   "cell_type": "markdown",
   "metadata": {
    "id": "TDooDlBbXnX1"
   },
   "source": []
  },
  {
   "cell_type": "markdown",
   "metadata": {
    "id": "QmfiQLNhXnsM"
   },
   "source": [
    "The number of classes were reduced from 18 to 13.\n",
    "\n",
    "Now we need to represent each class as a number, so as our predictive model can better understand the different categories."
   ]
  },
  {
   "cell_type": "code",
   "execution_count": 56,
   "metadata": {
    "colab": {
     "base_uri": "https://localhost:8080/",
     "height": 195
    },
    "id": "X79YLS3fXkjx",
    "outputId": "542ae8a7-7c90-4938-fd1e-25f746cfde06"
   },
   "outputs": [
    {
     "data": {
      "text/html": [
       "<div>\n",
       "<style scoped>\n",
       "    .dataframe tbody tr th:only-of-type {\n",
       "        vertical-align: middle;\n",
       "    }\n",
       "\n",
       "    .dataframe tbody tr th {\n",
       "        vertical-align: top;\n",
       "    }\n",
       "\n",
       "    .dataframe thead th {\n",
       "        text-align: right;\n",
       "    }\n",
       "</style>\n",
       "<table border=\"1\" class=\"dataframe\">\n",
       "  <thead>\n",
       "    <tr style=\"text-align: right;\">\n",
       "      <th></th>\n",
       "      <th>Product</th>\n",
       "      <th>Consumer_complaint</th>\n",
       "      <th>category_id</th>\n",
       "    </tr>\n",
       "  </thead>\n",
       "  <tbody>\n",
       "    <tr>\n",
       "      <th>310399</th>\n",
       "      <td>Credit reporting, repair, or other</td>\n",
       "      <td>Bayview completely ignored laws and is reporti...</td>\n",
       "      <td>0</td>\n",
       "    </tr>\n",
       "    <tr>\n",
       "      <th>186155</th>\n",
       "      <td>Credit reporting, repair, or other</td>\n",
       "      <td>inaccurate information no knowledge of account...</td>\n",
       "      <td>0</td>\n",
       "    </tr>\n",
       "    <tr>\n",
       "      <th>651135</th>\n",
       "      <td>Debt collection</td>\n",
       "      <td>On XXXX/XXXX/2016 I received a notice from Con...</td>\n",
       "      <td>1</td>\n",
       "    </tr>\n",
       "    <tr>\n",
       "      <th>515233</th>\n",
       "      <td>Consumer Loan</td>\n",
       "      <td>I have a loan with  Kia Motor Finance. I  rece...</td>\n",
       "      <td>2</td>\n",
       "    </tr>\n",
       "    <tr>\n",
       "      <th>641112</th>\n",
       "      <td>Credit card or prepaid card</td>\n",
       "      <td>I have a XXXX BIG card and made my payment whe...</td>\n",
       "      <td>3</td>\n",
       "    </tr>\n",
       "  </tbody>\n",
       "</table>\n",
       "</div>"
      ],
      "text/plain": [
       "                                   Product  ... category_id\n",
       "310399  Credit reporting, repair, or other  ...           0\n",
       "186155  Credit reporting, repair, or other  ...           0\n",
       "651135                     Debt collection  ...           1\n",
       "515233                       Consumer Loan  ...           2\n",
       "641112         Credit card or prepaid card  ...           3\n",
       "\n",
       "[5 rows x 3 columns]"
      ]
     },
     "execution_count": 56,
     "metadata": {
      "tags": []
     },
     "output_type": "execute_result"
    }
   ],
   "source": [
    "# Create a new column 'category_id' with encoded categories \n",
    "df2['category_id'] = df2['Product'].factorize()[0]\n",
    "category_id_df = df2[['Product', 'category_id']].drop_duplicates()\n",
    "\n",
    "\n",
    "# Dictionaries for future use\n",
    "category_to_id = dict(category_id_df.values)\n",
    "id_to_category = dict(category_id_df[['category_id', 'Product']].values)\n",
    "\n",
    "# New dataframe\n",
    "df2.head()"
   ]
  },
  {
   "cell_type": "code",
   "execution_count": 57,
   "metadata": {
    "colab": {
     "base_uri": "https://localhost:8080/",
     "height": 631
    },
    "id": "s78WqmPy9VVU",
    "outputId": "71ef5250-ceb7-4675-d011-d1acfdd1139b"
   },
   "outputs": [
    {
     "data": {
      "image/png": "[encoded data removed]",
      "text/plain": [
       "<Figure size 576x432 with 1 Axes>"
      ]
     },
     "metadata": {
      "needs_background": "light",
      "tags": []
     },
     "output_type": "display_data"
    }
   ],
   "source": [
    "import matplotlib.pyplot as plt\n",
    "fig = plt.figure(figsize=(8,6))\n",
    "df2.groupby('Product').Consumer_complaint.count().plot.bar(ylim=0)\n",
    "plt.show()"
   ]
  },
  {
   "cell_type": "markdown",
   "metadata": {
    "id": "umqR5xM99j7W"
   },
   "source": [
    "Imbalanced Classes\n",
    " \n",
    "We see that the number of complaints per product is imbalanced. Consumers’ complaints are more biased towards Debt collection, Credit reporting and Mortgage."
   ]
  },
  {
   "cell_type": "code",
   "execution_count": 58,
   "metadata": {
    "colab": {
     "base_uri": "https://localhost:8080/"
    },
    "id": "v8eeH5w99jZC",
    "outputId": "92f720b0-4f9e-42c3-c000-420b4f6ae584"
   },
   "outputs": [
    {
     "name": "stdout",
     "output_type": "stream",
     "text": [
      "Each of the 10000 complaints is represented by 27507 features (TF-IDF score of unigrams and bigrams)\n"
     ]
    }
   ],
   "source": [
    "from sklearn.feature_extraction.text import TfidfVectorizer\n",
    "\n",
    "tfidf = TfidfVectorizer(sublinear_tf=True, min_df=5,\n",
    "                        ngram_range=(1, 2), \n",
    "                        stop_words='english')\n",
    "\n",
    "# We transform each complaint into a vector\n",
    "features = tfidf.fit_transform(df2.Consumer_complaint).toarray()\n",
    "\n",
    "labels = df2.category_id\n",
    "\n",
    "print(\"Each of the %d complaints is represented by %d features (TF-IDF score of unigrams and bigrams)\" %(features.shape))"
   ]
  },
  {
   "cell_type": "markdown",
   "metadata": {
    "id": "mOmYlZ7wASCB"
   },
   "source": [
    "Now, each of 4569 consumer complaint narratives is represented by 12633 features, representing the tf-idf score for different unigrams and bigrams.\n",
    "\n",
    "We can use sklearn.feature_selection.chi2 to find the terms that are the most correlated with each of the products:"
   ]
  },
  {
   "cell_type": "code",
   "execution_count": 59,
   "metadata": {
    "colab": {
     "base_uri": "https://localhost:8080/"
    },
    "id": "EFtdDduc9pua",
    "outputId": "5b18657d-9137-4fb0-f4aa-e169002203fc"
   },
   "outputs": [
    {
     "name": "stdout",
     "output_type": "stream",
     "text": [
      "\n",
      "==> Bank account or service:\n",
      "  * Most Correlated Unigrams are: overdraft, bank, scottrade\n",
      "  * Most Correlated Bigrams are: citigold checking, debit card, checking account\n",
      "\n",
      "==> Checking or savings account:\n",
      "  * Most Correlated Unigrams are: checking, branch, overdraft\n",
      "  * Most Correlated Bigrams are: 00 bonus, overdraft fees, checking account\n",
      "\n",
      "==> Consumer Loan:\n",
      "  * Most Correlated Unigrams are: dealership, vehicle, car\n",
      "  * Most Correlated Bigrams are: car loan, vehicle loan, regional acceptance\n",
      "\n",
      "==> Credit card or prepaid card:\n",
      "  * Most Correlated Unigrams are: express, citi, card\n",
      "  * Most Correlated Bigrams are: balance transfer, american express, credit card\n",
      "\n",
      "==> Credit reporting, repair, or other:\n",
      "  * Most Correlated Unigrams are: report, experian, equifax\n",
      "  * Most Correlated Bigrams are: credit file, equifax xxxx, credit report\n",
      "\n",
      "==> Debt collection:\n",
      "  * Most Correlated Unigrams are: collect, collection, debt\n",
      "  * Most Correlated Bigrams are: debt collector, collect debt, collection agency\n",
      "\n",
      "==> Money transfer, virtual currency, or money service:\n",
      "  * Most Correlated Unigrams are: ethereum, bitcoin, coinbase\n",
      "  * Most Correlated Bigrams are: account coinbase, coinbase xxxx, coinbase account\n",
      "\n",
      "==> Money transfers:\n",
      "  * Most Correlated Unigrams are: paypal, moneygram, gram\n",
      "  * Most Correlated Bigrams are: sending money, western union, money gram\n",
      "\n",
      "==> Mortgage:\n",
      "  * Most Correlated Unigrams are: escrow, modification, mortgage\n",
      "  * Most Correlated Bigrams are: short sale, mortgage company, loan modification\n",
      "\n",
      "==> Other financial service:\n",
      "  * Most Correlated Unigrams are: meetings, productive, vast\n",
      "  * Most Correlated Bigrams are: insurance check, check payable, face face\n",
      "\n",
      "==> Payday loan, title loan, or personal loan:\n",
      "  * Most Correlated Unigrams are: astra, ace, payday\n",
      "  * Most Correlated Bigrams are: 00 loan, applied payday, payday loan\n",
      "\n",
      "==> Student loan:\n",
      "  * Most Correlated Unigrams are: student, loans, navient\n",
      "  * Most Correlated Bigrams are: income based, student loan, student loans\n",
      "\n",
      "==> Vehicle loan or lease:\n",
      "  * Most Correlated Unigrams are: honda, car, vehicle\n",
      "  * Most Correlated Bigrams are: used vehicle, total loss, honda financial\n"
     ]
    }
   ],
   "source": [
    "# Finding the three most correlated terms with each of the product categories\n",
    "from sklearn.feature_selection import chi2\n",
    "N = 3\n",
    "for Product, category_id in sorted(category_to_id.items()):\n",
    "  features_chi2 = chi2(features, labels == category_id)\n",
    "  indices = np.argsort(features_chi2[0])\n",
    "  feature_names = np.array(tfidf.get_feature_names())[indices]\n",
    "  unigrams = [v for v in feature_names if len(v.split(' ')) == 1]\n",
    "  bigrams = [v for v in feature_names if len(v.split(' ')) == 2]\n",
    "  print(\"\\n==> %s:\" %(Product))\n",
    "  print(\"  * Most Correlated Unigrams are: %s\" %(', '.join(unigrams[-N:])))\n",
    "  print(\"  * Most Correlated Bigrams are: %s\" %(', '.join(bigrams[-N:])))"
   ]
  },
  {
   "cell_type": "markdown",
   "metadata": {
    "id": "jCpvoq_4ZNLU"
   },
   "source": [
    "Multi-Classification models\n",
    "The classification models evaluated are:\n",
    "\n",
    "Random Forest\n",
    "\n",
    "Linear Support Vector Machine\n",
    "\n",
    "Multinomial Naive Bayes\n",
    "\n",
    "Logistic Regression."
   ]
  },
  {
   "cell_type": "markdown",
   "metadata": {
    "id": "1rVnLJF5AgVQ"
   },
   "source": [
    "Multi-Class Classifier: Features and Design\n",
    "\n",
    "To train supervised classifiers, we first transformed the “Consumer complaint narrative” into a vector of numbers. We explored vector representations such as TF-IDF weighted vectors.\n",
    "After having this vector representations of the text we can train supervised classifiers to train unseen “Consumer complaint narrative” and predict the “product” on which they fall.\n",
    "After all the above data transformation, now that we have all the features and labels, it is time to train the classifiers. There are a number of algorithms we can use for this type of problem.\n",
    "\n",
    "Naive Bayes Classifier: the one most suitable for word counts is the multinomial variant:"
   ]
  },
  {
   "cell_type": "code",
   "execution_count": 60,
   "metadata": {
    "id": "L8NNggIaZruY"
   },
   "outputs": [],
   "source": [
    "X = df2['Consumer_complaint'] # Collection of documents\n",
    "y = df2['Product'] # Target or the labels we want to predict (i.e., the 13 different complaints of products)\n",
    "\n",
    "X_train, X_test, y_train, y_test = train_test_split(X, y, \n",
    "                                                    test_size=0.25,\n",
    "                                                    random_state = 0)"
   ]
  },
  {
   "cell_type": "markdown",
   "metadata": {
    "id": "kcPGSL25AqSQ"
   },
   "source": [
    "Model Selection\n",
    " \n",
    "We are now ready to experiment with different machine learning models, evaluate their accuracy and find the source of any potential issues.\n",
    "\n",
    "We will benchmark the following four models:\n",
    "\n",
    "Logistic Regression\n",
    "(Multinomial) Naive Bayes\n",
    "Linear Support Vector Machine\n",
    "Random Forest"
   ]
  },
  {
   "cell_type": "markdown",
   "metadata": {
    "id": "bA0glrYVaFYt"
   },
   "source": [
    "## Models"
   ]
  },
  {
   "cell_type": "code",
   "execution_count": 61,
   "metadata": {
    "colab": {
     "base_uri": "https://localhost:8080/"
    },
    "id": "vch0nxxmAkOW",
    "outputId": "2e67c380-ca01-47a4-e0d8-38e794e05623"
   },
   "outputs": [
    {
     "name": "stderr",
     "output_type": "stream",
     "text": [
      "/usr/local/lib/python3.6/dist-packages/sklearn/linear_model/_logistic.py:940: ConvergenceWarning: lbfgs failed to converge (status=1):\n",
      "STOP: TOTAL NO. of ITERATIONS REACHED LIMIT.\n",
      "\n",
      "Increase the number of iterations (max_iter) or scale the data as shown in:\n",
      "    https://scikit-learn.org/stable/modules/preprocessing.html\n",
      "Please also refer to the documentation for alternative solver options:\n",
      "    https://scikit-learn.org/stable/modules/linear_model.html#logistic-regression\n",
      "  extra_warning_msg=_LOGISTIC_SOLVER_CONVERGENCE_MSG)\n",
      "/usr/local/lib/python3.6/dist-packages/sklearn/linear_model/_logistic.py:940: ConvergenceWarning: lbfgs failed to converge (status=1):\n",
      "STOP: TOTAL NO. of ITERATIONS REACHED LIMIT.\n",
      "\n",
      "Increase the number of iterations (max_iter) or scale the data as shown in:\n",
      "    https://scikit-learn.org/stable/modules/preprocessing.html\n",
      "Please also refer to the documentation for alternative solver options:\n",
      "    https://scikit-learn.org/stable/modules/linear_model.html#logistic-regression\n",
      "  extra_warning_msg=_LOGISTIC_SOLVER_CONVERGENCE_MSG)\n",
      "/usr/local/lib/python3.6/dist-packages/sklearn/linear_model/_logistic.py:940: ConvergenceWarning: lbfgs failed to converge (status=1):\n",
      "STOP: TOTAL NO. of ITERATIONS REACHED LIMIT.\n",
      "\n",
      "Increase the number of iterations (max_iter) or scale the data as shown in:\n",
      "    https://scikit-learn.org/stable/modules/preprocessing.html\n",
      "Please also refer to the documentation for alternative solver options:\n",
      "    https://scikit-learn.org/stable/modules/linear_model.html#logistic-regression\n",
      "  extra_warning_msg=_LOGISTIC_SOLVER_CONVERGENCE_MSG)\n",
      "/usr/local/lib/python3.6/dist-packages/sklearn/linear_model/_logistic.py:940: ConvergenceWarning: lbfgs failed to converge (status=1):\n",
      "STOP: TOTAL NO. of ITERATIONS REACHED LIMIT.\n",
      "\n",
      "Increase the number of iterations (max_iter) or scale the data as shown in:\n",
      "    https://scikit-learn.org/stable/modules/preprocessing.html\n",
      "Please also refer to the documentation for alternative solver options:\n",
      "    https://scikit-learn.org/stable/modules/linear_model.html#logistic-regression\n",
      "  extra_warning_msg=_LOGISTIC_SOLVER_CONVERGENCE_MSG)\n",
      "/usr/local/lib/python3.6/dist-packages/sklearn/linear_model/_logistic.py:940: ConvergenceWarning: lbfgs failed to converge (status=1):\n",
      "STOP: TOTAL NO. of ITERATIONS REACHED LIMIT.\n",
      "\n",
      "Increase the number of iterations (max_iter) or scale the data as shown in:\n",
      "    https://scikit-learn.org/stable/modules/preprocessing.html\n",
      "Please also refer to the documentation for alternative solver options:\n",
      "    https://scikit-learn.org/stable/modules/linear_model.html#logistic-regression\n",
      "  extra_warning_msg=_LOGISTIC_SOLVER_CONVERGENCE_MSG)\n"
     ]
    }
   ],
   "source": [
    "\n",
    "models = [\n",
    "    RandomForestClassifier(n_estimators=100, max_depth=5, random_state=0),\n",
    "    LinearSVC(),\n",
    "    MultinomialNB(),\n",
    "    LogisticRegression(random_state=0),\n",
    "]\n",
    "\n",
    "# 5 Cross-validation\n",
    "CV = 5\n",
    "cv_df = pd.DataFrame(index=range(CV * len(models)))\n",
    "\n",
    "entries = []\n",
    "for model in models:\n",
    "  model_name = model.__class__.__name__\n",
    "  accuracies = cross_val_score(model, features, labels, scoring='accuracy', cv=CV)\n",
    "  for fold_idx, accuracy in enumerate(accuracies):\n",
    "    entries.append((model_name, fold_idx, accuracy))\n",
    "    \n",
    "cv_df = pd.DataFrame(entries, columns=['model_name', 'fold_idx', 'accuracy'])"
   ]
  },
  {
   "cell_type": "markdown",
   "metadata": {
    "id": "0oF4ftPrhBF8"
   },
   "source": [
    "# Comparison of model performance\n",
    "\n",
    "The best mean acuracy was obtained with LinearSVC."
   ]
  },
  {
   "cell_type": "code",
   "execution_count": 62,
   "metadata": {
    "colab": {
     "base_uri": "https://localhost:8080/",
     "height": 195
    },
    "id": "TSwtX5YjAwtG",
    "outputId": "fed348a7-f7aa-467d-e4a9-7b8f4c26b89e"
   },
   "outputs": [
    {
     "data": {
      "text/html": [
       "<div>\n",
       "<style scoped>\n",
       "    .dataframe tbody tr th:only-of-type {\n",
       "        vertical-align: middle;\n",
       "    }\n",
       "\n",
       "    .dataframe tbody tr th {\n",
       "        vertical-align: top;\n",
       "    }\n",
       "\n",
       "    .dataframe thead th {\n",
       "        text-align: right;\n",
       "    }\n",
       "</style>\n",
       "<table border=\"1\" class=\"dataframe\">\n",
       "  <thead>\n",
       "    <tr style=\"text-align: right;\">\n",
       "      <th></th>\n",
       "      <th>Mean Accuracy</th>\n",
       "      <th>Standard deviation</th>\n",
       "    </tr>\n",
       "    <tr>\n",
       "      <th>model_name</th>\n",
       "      <th></th>\n",
       "      <th></th>\n",
       "    </tr>\n",
       "  </thead>\n",
       "  <tbody>\n",
       "    <tr>\n",
       "      <th>LinearSVC</th>\n",
       "      <td>0.7791</td>\n",
       "      <td>0.005561</td>\n",
       "    </tr>\n",
       "    <tr>\n",
       "      <th>LogisticRegression</th>\n",
       "      <td>0.7641</td>\n",
       "      <td>0.009839</td>\n",
       "    </tr>\n",
       "    <tr>\n",
       "      <th>MultinomialNB</th>\n",
       "      <td>0.6475</td>\n",
       "      <td>0.004596</td>\n",
       "    </tr>\n",
       "    <tr>\n",
       "      <th>RandomForestClassifier</th>\n",
       "      <td>0.3949</td>\n",
       "      <td>0.006665</td>\n",
       "    </tr>\n",
       "  </tbody>\n",
       "</table>\n",
       "</div>"
      ],
      "text/plain": [
       "                        Mean Accuracy  Standard deviation\n",
       "model_name                                               \n",
       "LinearSVC                      0.7791            0.005561\n",
       "LogisticRegression             0.7641            0.009839\n",
       "MultinomialNB                  0.6475            0.004596\n",
       "RandomForestClassifier         0.3949            0.006665"
      ]
     },
     "execution_count": 62,
     "metadata": {
      "tags": []
     },
     "output_type": "execute_result"
    }
   ],
   "source": [
    "mean_accuracy = cv_df.groupby('model_name').accuracy.mean()\n",
    "std_accuracy = cv_df.groupby('model_name').accuracy.std()\n",
    "\n",
    "acc = pd.concat([mean_accuracy, std_accuracy], axis= 1, \n",
    "          ignore_index=True)\n",
    "acc.columns = ['Mean Accuracy', 'Standard deviation']\n",
    "acc"
   ]
  },
  {
   "cell_type": "code",
   "execution_count": 63,
   "metadata": {
    "colab": {
     "base_uri": "https://localhost:8080/",
     "height": 368
    },
    "id": "9KBo_crEhKbe",
    "outputId": "154ac06b-1c92-4ea3-c39e-80b697313c25"
   },
   "outputs": [
    {
     "data": {
      "image/png": "[encoded data removed]",
      "text/plain": [
       "<Figure size 576x360 with 1 Axes>"
      ]
     },
     "metadata": {
      "needs_background": "light",
      "tags": []
     },
     "output_type": "display_data"
    }
   ],
   "source": [
    "plt.figure(figsize=(8,5))\n",
    "sns.boxplot(x='model_name', y='accuracy', \n",
    "            data=cv_df, \n",
    "            color='lightblue', \n",
    "            showmeans=True)\n",
    "plt.title(\"MEAN ACCURACY (cv = 5)\\n\", size=14);"
   ]
  },
  {
   "cell_type": "code",
   "execution_count": 64,
   "metadata": {
    "id": "vnUqYWrTixrF"
   },
   "outputs": [],
   "source": [
    "X_train, X_test, y_train, y_test,indices_train,indices_test = train_test_split(features, \n",
    "                                                               labels, \n",
    "                                                               df2.index, test_size=0.25, \n",
    "                                                               random_state=1)\n",
    "model = LinearSVC()\n",
    "model.fit(X_train, y_train)\n",
    "y_pred = model.predict(X_test)"
   ]
  },
  {
   "cell_type": "code",
   "execution_count": 65,
   "metadata": {
    "colab": {
     "base_uri": "https://localhost:8080/"
    },
    "id": "uzkrXXUCmSH8",
    "outputId": "f7d11f2d-2147-494c-d259-4353b3cd3c12"
   },
   "outputs": [
    {
     "name": "stdout",
     "output_type": "stream",
     "text": [
      "\t\t\t\tCLASSIFICATIION METRICS\n",
      "\n",
      "                                                    precision    recall  f1-score   support\n",
      "\n",
      "                Credit reporting, repair, or other       0.81      0.88      0.84       783\n",
      "                                   Debt collection       0.76      0.80      0.78       588\n",
      "                                     Consumer Loan       0.52      0.22      0.31        73\n",
      "                       Credit card or prepaid card       0.73      0.82      0.77       253\n",
      "                                          Mortgage       0.87      0.92      0.90       340\n",
      "                             Vehicle loan or lease       0.43      0.14      0.21        43\n",
      "                                      Student loan       0.85      0.85      0.85       155\n",
      "         Payday loan, title loan, or personal loan       0.50      0.17      0.26        40\n",
      "                       Checking or savings account       0.61      0.60      0.61        85\n",
      "                           Bank account or service       0.61      0.43      0.50        93\n",
      "Money transfer, virtual currency, or money service       0.83      0.62      0.71        32\n",
      "                                   Money transfers       0.60      0.23      0.33        13\n",
      "                           Other financial service       0.00      0.00      0.00         2\n",
      "\n",
      "                                          accuracy                           0.78      2500\n",
      "                                         macro avg       0.62      0.51      0.54      2500\n",
      "                                      weighted avg       0.77      0.78      0.77      2500\n",
      "\n"
     ]
    },
    {
     "name": "stderr",
     "output_type": "stream",
     "text": [
      "/usr/local/lib/python3.6/dist-packages/sklearn/metrics/_classification.py:1272: UndefinedMetricWarning: Precision and F-score are ill-defined and being set to 0.0 in labels with no predicted samples. Use `zero_division` parameter to control this behavior.\n",
      "  _warn_prf(average, modifier, msg_start, len(result))\n"
     ]
    }
   ],
   "source": [
    "# Classification report\n",
    "print('\\t\\t\\t\\tCLASSIFICATIION METRICS\\n')\n",
    "print(classification_report(y_test, y_pred, \n",
    "                                    target_names= df2['Product'].unique()))"
   ]
  },
  {
   "cell_type": "code",
   "execution_count": 66,
   "metadata": {
    "colab": {
     "base_uri": "https://localhost:8080/",
     "height": 776
    },
    "id": "fAwHmX06mZOx",
    "outputId": "4e1d4dfe-ebe2-4f5a-cad5-e2054f8e3aaa"
   },
   "outputs": [
    {
     "data": {
      "image/png": "[encoded data removed]",
      "text/plain": [
       "<Figure size 576x576 with 2 Axes>"
      ]
     },
     "metadata": {
      "needs_background": "light",
      "tags": []
     },
     "output_type": "display_data"
    }
   ],
   "source": [
    "conf_mat = confusion_matrix(y_test, y_pred)\n",
    "fig, ax = plt.subplots(figsize=(8,8))\n",
    "sns.heatmap(conf_mat, annot=True, cmap=\"Blues\", fmt='d',\n",
    "            xticklabels=category_id_df.Product.values, \n",
    "            yticklabels=category_id_df.Product.values)\n",
    "plt.ylabel('Actual')\n",
    "plt.xlabel('Predicted')\n",
    "plt.title(\"CONFUSION MATRIX - LinearSVC\\n\", size=16);"
   ]
  },
  {
   "cell_type": "code",
   "execution_count": 67,
   "metadata": {
    "colab": {
     "base_uri": "https://localhost:8080/",
     "height": 1000
    },
    "id": "1KlJoTPzGHDb",
    "outputId": "a86ea048-cb9a-4fe8-e497-6f79accd4058"
   },
   "outputs": [
    {
     "name": "stdout",
     "output_type": "stream",
     "text": [
      "'Debt collection' predicted as 'Credit reporting, repair, or other' : 71 examples.\n"
     ]
    },
    {
     "data": {
      "text/html": [
       "<div>\n",
       "<style scoped>\n",
       "    .dataframe tbody tr th:only-of-type {\n",
       "        vertical-align: middle;\n",
       "    }\n",
       "\n",
       "    .dataframe tbody tr th {\n",
       "        vertical-align: top;\n",
       "    }\n",
       "\n",
       "    .dataframe thead th {\n",
       "        text-align: right;\n",
       "    }\n",
       "</style>\n",
       "<table border=\"1\" class=\"dataframe\">\n",
       "  <thead>\n",
       "    <tr style=\"text-align: right;\">\n",
       "      <th></th>\n",
       "      <th>Product</th>\n",
       "      <th>Consumer_complaint</th>\n",
       "    </tr>\n",
       "  </thead>\n",
       "  <tbody>\n",
       "    <tr>\n",
       "      <th>483075</th>\n",
       "      <td>Debt collection</td>\n",
       "      <td>This agency has three collections listed which...</td>\n",
       "    </tr>\n",
       "    <tr>\n",
       "      <th>111807</th>\n",
       "      <td>Debt collection</td>\n",
       "      <td>I am writing to dispute the inaccurate data be...</td>\n",
       "    </tr>\n",
       "    <tr>\n",
       "      <th>376788</th>\n",
       "      <td>Debt collection</td>\n",
       "      <td>check n ' Go payday loan made me a loan and th...</td>\n",
       "    </tr>\n",
       "    <tr>\n",
       "      <th>570764</th>\n",
       "      <td>Debt collection</td>\n",
       "      <td>THIS AMT OWED {$8800.00} WAS TO BE PAID UNDER ...</td>\n",
       "    </tr>\n",
       "    <tr>\n",
       "      <th>88089</th>\n",
       "      <td>Debt collection</td>\n",
       "      <td>I am submitting this complaint for an account ...</td>\n",
       "    </tr>\n",
       "    <tr>\n",
       "      <th>...</th>\n",
       "      <td>...</td>\n",
       "      <td>...</td>\n",
       "    </tr>\n",
       "    <tr>\n",
       "      <th>155139</th>\n",
       "      <td>Debt collection</td>\n",
       "      <td>Between XX/XX/XXXX and XX/XX/XXXX, this accoun...</td>\n",
       "    </tr>\n",
       "    <tr>\n",
       "      <th>360018</th>\n",
       "      <td>Debt collection</td>\n",
       "      <td>On XXXX XXXX, 2017 XXXX opened up an account f...</td>\n",
       "    </tr>\n",
       "    <tr>\n",
       "      <th>165296</th>\n",
       "      <td>Debt collection</td>\n",
       "      <td>I have tried disputing with the bureau on seve...</td>\n",
       "    </tr>\n",
       "    <tr>\n",
       "      <th>159609</th>\n",
       "      <td>Debt collection</td>\n",
       "      <td>This is a complaint against National Credit Sy...</td>\n",
       "    </tr>\n",
       "    <tr>\n",
       "      <th>356062</th>\n",
       "      <td>Debt collection</td>\n",
       "      <td>TransUnion Consumer Relations XXXX. XXXX XXXX,...</td>\n",
       "    </tr>\n",
       "  </tbody>\n",
       "</table>\n",
       "<p>71 rows × 2 columns</p>\n",
       "</div>"
      ],
      "text/plain": [
       "                Product                                 Consumer_complaint\n",
       "483075  Debt collection  This agency has three collections listed which...\n",
       "111807  Debt collection  I am writing to dispute the inaccurate data be...\n",
       "376788  Debt collection  check n ' Go payday loan made me a loan and th...\n",
       "570764  Debt collection  THIS AMT OWED {$8800.00} WAS TO BE PAID UNDER ...\n",
       "88089   Debt collection  I am submitting this complaint for an account ...\n",
       "...                 ...                                                ...\n",
       "155139  Debt collection  Between XX/XX/XXXX and XX/XX/XXXX, this accoun...\n",
       "360018  Debt collection  On XXXX XXXX, 2017 XXXX opened up an account f...\n",
       "165296  Debt collection  I have tried disputing with the bureau on seve...\n",
       "159609  Debt collection  This is a complaint against National Credit Sy...\n",
       "356062  Debt collection  TransUnion Consumer Relations XXXX. XXXX XXXX,...\n",
       "\n",
       "[71 rows x 2 columns]"
      ]
     },
     "metadata": {
      "tags": []
     },
     "output_type": "display_data"
    },
    {
     "name": "stdout",
     "output_type": "stream",
     "text": [
      "\n",
      "'Credit card or prepaid card' predicted as 'Credit reporting, repair, or other' : 20 examples.\n"
     ]
    },
    {
     "data": {
      "text/html": [
       "<div>\n",
       "<style scoped>\n",
       "    .dataframe tbody tr th:only-of-type {\n",
       "        vertical-align: middle;\n",
       "    }\n",
       "\n",
       "    .dataframe tbody tr th {\n",
       "        vertical-align: top;\n",
       "    }\n",
       "\n",
       "    .dataframe thead th {\n",
       "        text-align: right;\n",
       "    }\n",
       "</style>\n",
       "<table border=\"1\" class=\"dataframe\">\n",
       "  <thead>\n",
       "    <tr style=\"text-align: right;\">\n",
       "      <th></th>\n",
       "      <th>Product</th>\n",
       "      <th>Consumer_complaint</th>\n",
       "    </tr>\n",
       "  </thead>\n",
       "  <tbody>\n",
       "    <tr>\n",
       "      <th>399397</th>\n",
       "      <td>Credit card or prepaid card</td>\n",
       "      <td>On XXXX XXXX, XXXX I submitted correspondence ...</td>\n",
       "    </tr>\n",
       "    <tr>\n",
       "      <th>752303</th>\n",
       "      <td>Credit card or prepaid card</td>\n",
       "      <td>I purchased a room size air conditioner from X...</td>\n",
       "    </tr>\n",
       "    <tr>\n",
       "      <th>544109</th>\n",
       "      <td>Credit card or prepaid card</td>\n",
       "      <td>To Whom May Concern : Early Spring XX/XX/XXXX ...</td>\n",
       "    </tr>\n",
       "    <tr>\n",
       "      <th>723669</th>\n",
       "      <td>Credit card or prepaid card</td>\n",
       "      <td>The Sychrony issued excessive credit to me thr...</td>\n",
       "    </tr>\n",
       "    <tr>\n",
       "      <th>202661</th>\n",
       "      <td>Credit card or prepaid card</td>\n",
       "      <td>I reviewed my credit report and saw an account...</td>\n",
       "    </tr>\n",
       "    <tr>\n",
       "      <th>891797</th>\n",
       "      <td>Credit card or prepaid card</td>\n",
       "      <td>I have a SYNCB/WALMART DUAL CARD. Unbeknownst ...</td>\n",
       "    </tr>\n",
       "    <tr>\n",
       "      <th>280866</th>\n",
       "      <td>Credit card or prepaid card</td>\n",
       "      <td>XX/XX/2017 Monthly payment XXXX dollars. I rea...</td>\n",
       "    </tr>\n",
       "    <tr>\n",
       "      <th>350390</th>\n",
       "      <td>Credit card or prepaid card</td>\n",
       "      <td>I received a letter from XXXX On XXXX XXXX 201...</td>\n",
       "    </tr>\n",
       "    <tr>\n",
       "      <th>413596</th>\n",
       "      <td>Credit card or prepaid card</td>\n",
       "      <td>XXXX investigated the following listing, XXXX ...</td>\n",
       "    </tr>\n",
       "    <tr>\n",
       "      <th>725609</th>\n",
       "      <td>Credit card or prepaid card</td>\n",
       "      <td>Seventh Ave has charged off an account and con...</td>\n",
       "    </tr>\n",
       "    <tr>\n",
       "      <th>262615</th>\n",
       "      <td>Credit card or prepaid card</td>\n",
       "      <td>XXXX XXXX XXXX has been ongoingly writing me s...</td>\n",
       "    </tr>\n",
       "    <tr>\n",
       "      <th>684599</th>\n",
       "      <td>Credit card or prepaid card</td>\n",
       "      <td>XXXX, Capital One ( XXXX accounts ), XXXX XXXX...</td>\n",
       "    </tr>\n",
       "    <tr>\n",
       "      <th>292383</th>\n",
       "      <td>Credit card or prepaid card</td>\n",
       "      <td>It started back in XX/XX/XXXX when i requested...</td>\n",
       "    </tr>\n",
       "    <tr>\n",
       "      <th>84379</th>\n",
       "      <td>Credit card or prepaid card</td>\n",
       "      <td>On XX/XX/XXXX I logged into my XXXX XXXX XXXX,...</td>\n",
       "    </tr>\n",
       "    <tr>\n",
       "      <th>821856</th>\n",
       "      <td>Credit card or prepaid card</td>\n",
       "      <td>This issue is that the subsidiary collection a...</td>\n",
       "    </tr>\n",
       "    <tr>\n",
       "      <th>450626</th>\n",
       "      <td>Credit card or prepaid card</td>\n",
       "      <td>I am a victim of identity theft. I have previo...</td>\n",
       "    </tr>\n",
       "    <tr>\n",
       "      <th>716883</th>\n",
       "      <td>Credit card or prepaid card</td>\n",
       "      <td>I had recurring loads set up on my prepaid car...</td>\n",
       "    </tr>\n",
       "    <tr>\n",
       "      <th>851132</th>\n",
       "      <td>Credit card or prepaid card</td>\n",
       "      <td>Old account that is my ex husbands, I requeste...</td>\n",
       "    </tr>\n",
       "    <tr>\n",
       "      <th>223701</th>\n",
       "      <td>Credit card or prepaid card</td>\n",
       "      <td>I am writing now in wish to receive your help....</td>\n",
       "    </tr>\n",
       "    <tr>\n",
       "      <th>333703</th>\n",
       "      <td>Credit card or prepaid card</td>\n",
       "      <td>After moving from my address in XXXX, NY I was...</td>\n",
       "    </tr>\n",
       "  </tbody>\n",
       "</table>\n",
       "</div>"
      ],
      "text/plain": [
       "                            Product                                 Consumer_complaint\n",
       "399397  Credit card or prepaid card  On XXXX XXXX, XXXX I submitted correspondence ...\n",
       "752303  Credit card or prepaid card  I purchased a room size air conditioner from X...\n",
       "544109  Credit card or prepaid card  To Whom May Concern : Early Spring XX/XX/XXXX ...\n",
       "723669  Credit card or prepaid card  The Sychrony issued excessive credit to me thr...\n",
       "202661  Credit card or prepaid card  I reviewed my credit report and saw an account...\n",
       "891797  Credit card or prepaid card  I have a SYNCB/WALMART DUAL CARD. Unbeknownst ...\n",
       "280866  Credit card or prepaid card  XX/XX/2017 Monthly payment XXXX dollars. I rea...\n",
       "350390  Credit card or prepaid card  I received a letter from XXXX On XXXX XXXX 201...\n",
       "413596  Credit card or prepaid card  XXXX investigated the following listing, XXXX ...\n",
       "725609  Credit card or prepaid card  Seventh Ave has charged off an account and con...\n",
       "262615  Credit card or prepaid card  XXXX XXXX XXXX has been ongoingly writing me s...\n",
       "684599  Credit card or prepaid card  XXXX, Capital One ( XXXX accounts ), XXXX XXXX...\n",
       "292383  Credit card or prepaid card  It started back in XX/XX/XXXX when i requested...\n",
       "84379   Credit card or prepaid card  On XX/XX/XXXX I logged into my XXXX XXXX XXXX,...\n",
       "821856  Credit card or prepaid card  This issue is that the subsidiary collection a...\n",
       "450626  Credit card or prepaid card  I am a victim of identity theft. I have previo...\n",
       "716883  Credit card or prepaid card  I had recurring loads set up on my prepaid car...\n",
       "851132  Credit card or prepaid card  Old account that is my ex husbands, I requeste...\n",
       "223701  Credit card or prepaid card  I am writing now in wish to receive your help....\n",
       "333703  Credit card or prepaid card  After moving from my address in XXXX, NY I was..."
      ]
     },
     "metadata": {
      "tags": []
     },
     "output_type": "display_data"
    },
    {
     "name": "stdout",
     "output_type": "stream",
     "text": [
      "\n",
      "'Credit reporting, repair, or other' predicted as 'Debt collection' : 48 examples.\n"
     ]
    },
    {
     "data": {
      "text/html": [
       "<div>\n",
       "<style scoped>\n",
       "    .dataframe tbody tr th:only-of-type {\n",
       "        vertical-align: middle;\n",
       "    }\n",
       "\n",
       "    .dataframe tbody tr th {\n",
       "        vertical-align: top;\n",
       "    }\n",
       "\n",
       "    .dataframe thead th {\n",
       "        text-align: right;\n",
       "    }\n",
       "</style>\n",
       "<table border=\"1\" class=\"dataframe\">\n",
       "  <thead>\n",
       "    <tr style=\"text-align: right;\">\n",
       "      <th></th>\n",
       "      <th>Product</th>\n",
       "      <th>Consumer_complaint</th>\n",
       "    </tr>\n",
       "  </thead>\n",
       "  <tbody>\n",
       "    <tr>\n",
       "      <th>167717</th>\n",
       "      <td>Credit reporting, repair, or other</td>\n",
       "      <td>When my vehicle was repossessed in XX/XX/2017 ...</td>\n",
       "    </tr>\n",
       "    <tr>\n",
       "      <th>131925</th>\n",
       "      <td>Credit reporting, repair, or other</td>\n",
       "      <td>I submitted a dispute online on a debt with XX...</td>\n",
       "    </tr>\n",
       "    <tr>\n",
       "      <th>675868</th>\n",
       "      <td>Credit reporting, repair, or other</td>\n",
       "      <td>My name is XXXX XXXX. Your collection agency i...</td>\n",
       "    </tr>\n",
       "    <tr>\n",
       "      <th>370575</th>\n",
       "      <td>Credit reporting, repair, or other</td>\n",
       "      <td>Credit reporting agency incorrectly keeps repo...</td>\n",
       "    </tr>\n",
       "    <tr>\n",
       "      <th>863037</th>\n",
       "      <td>Credit reporting, repair, or other</td>\n",
       "      <td>This medical bill was paid to another collecto...</td>\n",
       "    </tr>\n",
       "    <tr>\n",
       "      <th>597294</th>\n",
       "      <td>Credit reporting, repair, or other</td>\n",
       "      <td>I received a call, and my oldest daughter got ...</td>\n",
       "    </tr>\n",
       "    <tr>\n",
       "      <th>301509</th>\n",
       "      <td>Credit reporting, repair, or other</td>\n",
       "      <td>While attempting to get approval for a loan to...</td>\n",
       "    </tr>\n",
       "    <tr>\n",
       "      <th>404336</th>\n",
       "      <td>Credit reporting, repair, or other</td>\n",
       "      <td>On XX/XX/XXXX I sent a letter to Wakefield &amp; A...</td>\n",
       "    </tr>\n",
       "    <tr>\n",
       "      <th>310415</th>\n",
       "      <td>Credit reporting, repair, or other</td>\n",
       "      <td>Portfolio Recov Assoc, Promise to remove the c...</td>\n",
       "    </tr>\n",
       "    <tr>\n",
       "      <th>347164</th>\n",
       "      <td>Credit reporting, repair, or other</td>\n",
       "      <td>XXXX Inquired because someone is trying to use...</td>\n",
       "    </tr>\n",
       "    <tr>\n",
       "      <th>502826</th>\n",
       "      <td>Credit reporting, repair, or other</td>\n",
       "      <td>I have received an unsolicited check from a lo...</td>\n",
       "    </tr>\n",
       "    <tr>\n",
       "      <th>230777</th>\n",
       "      <td>Credit reporting, repair, or other</td>\n",
       "      <td>On XX/XX/XXXX, I received a letter from XXXX X...</td>\n",
       "    </tr>\n",
       "    <tr>\n",
       "      <th>387785</th>\n",
       "      <td>Credit reporting, repair, or other</td>\n",
       "      <td>I have previously filed a complaint against XX...</td>\n",
       "    </tr>\n",
       "    <tr>\n",
       "      <th>466190</th>\n",
       "      <td>Credit reporting, repair, or other</td>\n",
       "      <td>I have notified this company, and have gave th...</td>\n",
       "    </tr>\n",
       "    <tr>\n",
       "      <th>190157</th>\n",
       "      <td>Credit reporting, repair, or other</td>\n",
       "      <td>I was told by XXXX XXXX XXXX XXXX XXXX in XXXX...</td>\n",
       "    </tr>\n",
       "    <tr>\n",
       "      <th>108248</th>\n",
       "      <td>Credit reporting, repair, or other</td>\n",
       "      <td>XXXX has been non-compliant with removing the ...</td>\n",
       "    </tr>\n",
       "    <tr>\n",
       "      <th>338935</th>\n",
       "      <td>Credit reporting, repair, or other</td>\n",
       "      <td>In order to prevent any deception, misrepresen...</td>\n",
       "    </tr>\n",
       "    <tr>\n",
       "      <th>173571</th>\n",
       "      <td>Credit reporting, repair, or other</td>\n",
       "      <td>Subject : XXXX XXXX XXXX Account : XXXX Amount...</td>\n",
       "    </tr>\n",
       "    <tr>\n",
       "      <th>567110</th>\n",
       "      <td>Credit reporting, repair, or other</td>\n",
       "      <td>I have several accounts, address and work plac...</td>\n",
       "    </tr>\n",
       "    <tr>\n",
       "      <th>730535</th>\n",
       "      <td>Credit reporting, repair, or other</td>\n",
       "      <td>I had my report pulled XXXX XXXX, 2015 and dis...</td>\n",
       "    </tr>\n",
       "    <tr>\n",
       "      <th>64693</th>\n",
       "      <td>Credit reporting, repair, or other</td>\n",
       "      <td>I don know anything about this company at all</td>\n",
       "    </tr>\n",
       "    <tr>\n",
       "      <th>232904</th>\n",
       "      <td>Credit reporting, repair, or other</td>\n",
       "      <td>The referenced collection agency has violated ...</td>\n",
       "    </tr>\n",
       "    <tr>\n",
       "      <th>193087</th>\n",
       "      <td>Credit reporting, repair, or other</td>\n",
       "      <td>In XXXX and XXXX of XXXX, I sublet an apartmen...</td>\n",
       "    </tr>\n",
       "    <tr>\n",
       "      <th>107756</th>\n",
       "      <td>Credit reporting, repair, or other</td>\n",
       "      <td>This is the second time that I have requested ...</td>\n",
       "    </tr>\n",
       "    <tr>\n",
       "      <th>279437</th>\n",
       "      <td>Credit reporting, repair, or other</td>\n",
       "      <td>I SENT THEM A DEBT VALIDATION LETTER ON XX/XX/...</td>\n",
       "    </tr>\n",
       "    <tr>\n",
       "      <th>630892</th>\n",
       "      <td>Credit reporting, repair, or other</td>\n",
       "      <td>I paid my debt in full to XXXX. My home loan c...</td>\n",
       "    </tr>\n",
       "    <tr>\n",
       "      <th>663440</th>\n",
       "      <td>Credit reporting, repair, or other</td>\n",
       "      <td>I recently applied for a mortagage and the com...</td>\n",
       "    </tr>\n",
       "    <tr>\n",
       "      <th>295795</th>\n",
       "      <td>Credit reporting, repair, or other</td>\n",
       "      <td>Midwest Recovery Systems has placed informatio...</td>\n",
       "    </tr>\n",
       "    <tr>\n",
       "      <th>519237</th>\n",
       "      <td>Credit reporting, repair, or other</td>\n",
       "      <td>I received a credit change alert on my credit ...</td>\n",
       "    </tr>\n",
       "    <tr>\n",
       "      <th>134062</th>\n",
       "      <td>Credit reporting, repair, or other</td>\n",
       "      <td>I had a temporarily suspended license due to a...</td>\n",
       "    </tr>\n",
       "    <tr>\n",
       "      <th>582934</th>\n",
       "      <td>Credit reporting, repair, or other</td>\n",
       "      <td>I spoke to XXXX from ARS requested I fax copy ...</td>\n",
       "    </tr>\n",
       "    <tr>\n",
       "      <th>170582</th>\n",
       "      <td>Credit reporting, repair, or other</td>\n",
       "      <td>There are incorrect addresses, phone numbers a...</td>\n",
       "    </tr>\n",
       "    <tr>\n",
       "      <th>525352</th>\n",
       "      <td>Credit reporting, repair, or other</td>\n",
       "      <td>XXXX Apartments continued to charge me after I...</td>\n",
       "    </tr>\n",
       "    <tr>\n",
       "      <th>49478</th>\n",
       "      <td>Credit reporting, repair, or other</td>\n",
       "      <td>To whom it may concern On XX/XX/XXXX Radius Gl...</td>\n",
       "    </tr>\n",
       "    <tr>\n",
       "      <th>191206</th>\n",
       "      <td>Credit reporting, repair, or other</td>\n",
       "      <td>XXXX : National Consumer Assistance Center XXX...</td>\n",
       "    </tr>\n",
       "    <tr>\n",
       "      <th>482723</th>\n",
       "      <td>Credit reporting, repair, or other</td>\n",
       "      <td>on  XXXX / XXXX / XXXX , I requested Experian,...</td>\n",
       "    </tr>\n",
       "    <tr>\n",
       "      <th>457189</th>\n",
       "      <td>Credit reporting, repair, or other</td>\n",
       "      <td>I paid off a collection with this company over...</td>\n",
       "    </tr>\n",
       "    <tr>\n",
       "      <th>346412</th>\n",
       "      <td>Credit reporting, repair, or other</td>\n",
       "      <td>My credit score has been lowered from the XXXX...</td>\n",
       "    </tr>\n",
       "    <tr>\n",
       "      <th>341754</th>\n",
       "      <td>Credit reporting, repair, or other</td>\n",
       "      <td>This company fraudulantly posted a collections...</td>\n",
       "    </tr>\n",
       "    <tr>\n",
       "      <th>58004</th>\n",
       "      <td>Credit reporting, repair, or other</td>\n",
       "      <td>I was sent a letter by Americor to settle my d...</td>\n",
       "    </tr>\n",
       "    <tr>\n",
       "      <th>826812</th>\n",
       "      <td>Credit reporting, repair, or other</td>\n",
       "      <td>I checked my credit report and I found out tha...</td>\n",
       "    </tr>\n",
       "    <tr>\n",
       "      <th>264862</th>\n",
       "      <td>Credit reporting, repair, or other</td>\n",
       "      <td>I opened a dispute XX/XX/XXXX with Experian an...</td>\n",
       "    </tr>\n",
       "    <tr>\n",
       "      <th>890841</th>\n",
       "      <td>Credit reporting, repair, or other</td>\n",
       "      <td>Negative info is about an account with XXXX wh...</td>\n",
       "    </tr>\n",
       "    <tr>\n",
       "      <th>173409</th>\n",
       "      <td>Credit reporting, repair, or other</td>\n",
       "      <td>XXXX XXXXXXXX XXXX is inaccurately reporting a...</td>\n",
       "    </tr>\n",
       "    <tr>\n",
       "      <th>429357</th>\n",
       "      <td>Credit reporting, repair, or other</td>\n",
       "      <td>Nationwide Recovery Services is reporting thre...</td>\n",
       "    </tr>\n",
       "    <tr>\n",
       "      <th>126662</th>\n",
       "      <td>Credit reporting, repair, or other</td>\n",
       "      <td>Information is incorrect. Never have gotten an...</td>\n",
       "    </tr>\n",
       "    <tr>\n",
       "      <th>880096</th>\n",
       "      <td>Credit reporting, repair, or other</td>\n",
       "      <td>Collection Agency : XXXXIs reporting inaccurat...</td>\n",
       "    </tr>\n",
       "    <tr>\n",
       "      <th>113873</th>\n",
       "      <td>Credit reporting, repair, or other</td>\n",
       "      <td>Im having a problem with XXXX XXXX XXXX states...</td>\n",
       "    </tr>\n",
       "  </tbody>\n",
       "</table>\n",
       "</div>"
      ],
      "text/plain": [
       "                                   Product                                 Consumer_complaint\n",
       "167717  Credit reporting, repair, or other  When my vehicle was repossessed in XX/XX/2017 ...\n",
       "131925  Credit reporting, repair, or other  I submitted a dispute online on a debt with XX...\n",
       "675868  Credit reporting, repair, or other  My name is XXXX XXXX. Your collection agency i...\n",
       "370575  Credit reporting, repair, or other  Credit reporting agency incorrectly keeps repo...\n",
       "863037  Credit reporting, repair, or other  This medical bill was paid to another collecto...\n",
       "597294  Credit reporting, repair, or other  I received a call, and my oldest daughter got ...\n",
       "301509  Credit reporting, repair, or other  While attempting to get approval for a loan to...\n",
       "404336  Credit reporting, repair, or other  On XX/XX/XXXX I sent a letter to Wakefield & A...\n",
       "310415  Credit reporting, repair, or other  Portfolio Recov Assoc, Promise to remove the c...\n",
       "347164  Credit reporting, repair, or other  XXXX Inquired because someone is trying to use...\n",
       "502826  Credit reporting, repair, or other  I have received an unsolicited check from a lo...\n",
       "230777  Credit reporting, repair, or other  On XX/XX/XXXX, I received a letter from XXXX X...\n",
       "387785  Credit reporting, repair, or other  I have previously filed a complaint against XX...\n",
       "466190  Credit reporting, repair, or other  I have notified this company, and have gave th...\n",
       "190157  Credit reporting, repair, or other  I was told by XXXX XXXX XXXX XXXX XXXX in XXXX...\n",
       "108248  Credit reporting, repair, or other  XXXX has been non-compliant with removing the ...\n",
       "338935  Credit reporting, repair, or other  In order to prevent any deception, misrepresen...\n",
       "173571  Credit reporting, repair, or other  Subject : XXXX XXXX XXXX Account : XXXX Amount...\n",
       "567110  Credit reporting, repair, or other  I have several accounts, address and work plac...\n",
       "730535  Credit reporting, repair, or other  I had my report pulled XXXX XXXX, 2015 and dis...\n",
       "64693   Credit reporting, repair, or other      I don know anything about this company at all\n",
       "232904  Credit reporting, repair, or other  The referenced collection agency has violated ...\n",
       "193087  Credit reporting, repair, or other  In XXXX and XXXX of XXXX, I sublet an apartmen...\n",
       "107756  Credit reporting, repair, or other  This is the second time that I have requested ...\n",
       "279437  Credit reporting, repair, or other  I SENT THEM A DEBT VALIDATION LETTER ON XX/XX/...\n",
       "630892  Credit reporting, repair, or other  I paid my debt in full to XXXX. My home loan c...\n",
       "663440  Credit reporting, repair, or other  I recently applied for a mortagage and the com...\n",
       "295795  Credit reporting, repair, or other  Midwest Recovery Systems has placed informatio...\n",
       "519237  Credit reporting, repair, or other  I received a credit change alert on my credit ...\n",
       "134062  Credit reporting, repair, or other  I had a temporarily suspended license due to a...\n",
       "582934  Credit reporting, repair, or other  I spoke to XXXX from ARS requested I fax copy ...\n",
       "170582  Credit reporting, repair, or other  There are incorrect addresses, phone numbers a...\n",
       "525352  Credit reporting, repair, or other  XXXX Apartments continued to charge me after I...\n",
       "49478   Credit reporting, repair, or other  To whom it may concern On XX/XX/XXXX Radius Gl...\n",
       "191206  Credit reporting, repair, or other  XXXX : National Consumer Assistance Center XXX...\n",
       "482723  Credit reporting, repair, or other  on  XXXX / XXXX / XXXX , I requested Experian,...\n",
       "457189  Credit reporting, repair, or other  I paid off a collection with this company over...\n",
       "346412  Credit reporting, repair, or other  My credit score has been lowered from the XXXX...\n",
       "341754  Credit reporting, repair, or other  This company fraudulantly posted a collections...\n",
       "58004   Credit reporting, repair, or other  I was sent a letter by Americor to settle my d...\n",
       "826812  Credit reporting, repair, or other  I checked my credit report and I found out tha...\n",
       "264862  Credit reporting, repair, or other  I opened a dispute XX/XX/XXXX with Experian an...\n",
       "890841  Credit reporting, repair, or other  Negative info is about an account with XXXX wh...\n",
       "173409  Credit reporting, repair, or other  XXXX XXXXXXXX XXXX is inaccurately reporting a...\n",
       "429357  Credit reporting, repair, or other  Nationwide Recovery Services is reporting thre...\n",
       "126662  Credit reporting, repair, or other  Information is incorrect. Never have gotten an...\n",
       "880096  Credit reporting, repair, or other  Collection Agency : XXXXIs reporting inaccurat...\n",
       "113873  Credit reporting, repair, or other  Im having a problem with XXXX XXXX XXXX states..."
      ]
     },
     "metadata": {
      "tags": []
     },
     "output_type": "display_data"
    },
    {
     "name": "stdout",
     "output_type": "stream",
     "text": [
      "\n",
      "'Credit card or prepaid card' predicted as 'Debt collection' : 21 examples.\n"
     ]
    },
    {
     "data": {
      "text/html": [
       "<div>\n",
       "<style scoped>\n",
       "    .dataframe tbody tr th:only-of-type {\n",
       "        vertical-align: middle;\n",
       "    }\n",
       "\n",
       "    .dataframe tbody tr th {\n",
       "        vertical-align: top;\n",
       "    }\n",
       "\n",
       "    .dataframe thead th {\n",
       "        text-align: right;\n",
       "    }\n",
       "</style>\n",
       "<table border=\"1\" class=\"dataframe\">\n",
       "  <thead>\n",
       "    <tr style=\"text-align: right;\">\n",
       "      <th></th>\n",
       "      <th>Product</th>\n",
       "      <th>Consumer_complaint</th>\n",
       "    </tr>\n",
       "  </thead>\n",
       "  <tbody>\n",
       "    <tr>\n",
       "      <th>427835</th>\n",
       "      <td>Credit card or prepaid card</td>\n",
       "      <td>XXXX would not honor an offer to credit {$50.0...</td>\n",
       "    </tr>\n",
       "    <tr>\n",
       "      <th>468331</th>\n",
       "      <td>Credit card or prepaid card</td>\n",
       "      <td>hi I 'm on payment program with American expre...</td>\n",
       "    </tr>\n",
       "    <tr>\n",
       "      <th>36821</th>\n",
       "      <td>Credit card or prepaid card</td>\n",
       "      <td>I am corresponding about my XXXX XXXX XXXX, wh...</td>\n",
       "    </tr>\n",
       "    <tr>\n",
       "      <th>681770</th>\n",
       "      <td>Credit card or prepaid card</td>\n",
       "      <td>I sent the following message to Capital One on...</td>\n",
       "    </tr>\n",
       "    <tr>\n",
       "      <th>859065</th>\n",
       "      <td>Credit card or prepaid card</td>\n",
       "      <td>I had several attempts to get information abou...</td>\n",
       "    </tr>\n",
       "    <tr>\n",
       "      <th>504540</th>\n",
       "      <td>Credit card or prepaid card</td>\n",
       "      <td>This is in regards to BOTH a  Total Visa  acco...</td>\n",
       "    </tr>\n",
       "    <tr>\n",
       "      <th>872562</th>\n",
       "      <td>Credit card or prepaid card</td>\n",
       "      <td>I used a debt relief agency to pay my debts ( ...</td>\n",
       "    </tr>\n",
       "    <tr>\n",
       "      <th>609682</th>\n",
       "      <td>Credit card or prepaid card</td>\n",
       "      <td>I have a letter stating from American Express ...</td>\n",
       "    </tr>\n",
       "    <tr>\n",
       "      <th>907179</th>\n",
       "      <td>Credit card or prepaid card</td>\n",
       "      <td>I keep getting a robo call ( XXXX ) threatenin...</td>\n",
       "    </tr>\n",
       "    <tr>\n",
       "      <th>517845</th>\n",
       "      <td>Credit card or prepaid card</td>\n",
       "      <td>Bank of America is refusing to produce proof o...</td>\n",
       "    </tr>\n",
       "    <tr>\n",
       "      <th>695931</th>\n",
       "      <td>Credit card or prepaid card</td>\n",
       "      <td>While making dinner on XXXX XXXX 2016, I recei...</td>\n",
       "    </tr>\n",
       "    <tr>\n",
       "      <th>237995</th>\n",
       "      <td>Credit card or prepaid card</td>\n",
       "      <td>I am a day late on a payment I have been getti...</td>\n",
       "    </tr>\n",
       "    <tr>\n",
       "      <th>905942</th>\n",
       "      <td>Credit card or prepaid card</td>\n",
       "      <td>After years and years and numerous attempts of...</td>\n",
       "    </tr>\n",
       "    <tr>\n",
       "      <th>636116</th>\n",
       "      <td>Credit card or prepaid card</td>\n",
       "      <td>Chase Bank is reporting a negative charge off ...</td>\n",
       "    </tr>\n",
       "    <tr>\n",
       "      <th>663682</th>\n",
       "      <td>Credit card or prepaid card</td>\n",
       "      <td>Since Synchronicity bank replace XXXX XX/XX/20...</td>\n",
       "    </tr>\n",
       "    <tr>\n",
       "      <th>645824</th>\n",
       "      <td>Credit card or prepaid card</td>\n",
       "      <td>I received a collection letter from XXXX in XX...</td>\n",
       "    </tr>\n",
       "    <tr>\n",
       "      <th>675567</th>\n",
       "      <td>Credit card or prepaid card</td>\n",
       "      <td>Capital One allowed a charge of {$1200.00} to ...</td>\n",
       "    </tr>\n",
       "    <tr>\n",
       "      <th>224729</th>\n",
       "      <td>Credit card or prepaid card</td>\n",
       "      <td>I have not been getting my statement and when ...</td>\n",
       "    </tr>\n",
       "    <tr>\n",
       "      <th>845167</th>\n",
       "      <td>Credit card or prepaid card</td>\n",
       "      <td>I called customer service at XXXX at the numbe...</td>\n",
       "    </tr>\n",
       "    <tr>\n",
       "      <th>749944</th>\n",
       "      <td>Credit card or prepaid card</td>\n",
       "      <td>Bank of America has an old debt of mine that t...</td>\n",
       "    </tr>\n",
       "    <tr>\n",
       "      <th>783908</th>\n",
       "      <td>Credit card or prepaid card</td>\n",
       "      <td>On XXXX XXXX, 2015 I received a bill of {$60.0...</td>\n",
       "    </tr>\n",
       "  </tbody>\n",
       "</table>\n",
       "</div>"
      ],
      "text/plain": [
       "                            Product                                 Consumer_complaint\n",
       "427835  Credit card or prepaid card  XXXX would not honor an offer to credit {$50.0...\n",
       "468331  Credit card or prepaid card  hi I 'm on payment program with American expre...\n",
       "36821   Credit card or prepaid card  I am corresponding about my XXXX XXXX XXXX, wh...\n",
       "681770  Credit card or prepaid card  I sent the following message to Capital One on...\n",
       "859065  Credit card or prepaid card  I had several attempts to get information abou...\n",
       "504540  Credit card or prepaid card  This is in regards to BOTH a  Total Visa  acco...\n",
       "872562  Credit card or prepaid card  I used a debt relief agency to pay my debts ( ...\n",
       "609682  Credit card or prepaid card  I have a letter stating from American Express ...\n",
       "907179  Credit card or prepaid card  I keep getting a robo call ( XXXX ) threatenin...\n",
       "517845  Credit card or prepaid card  Bank of America is refusing to produce proof o...\n",
       "695931  Credit card or prepaid card  While making dinner on XXXX XXXX 2016, I recei...\n",
       "237995  Credit card or prepaid card  I am a day late on a payment I have been getti...\n",
       "905942  Credit card or prepaid card  After years and years and numerous attempts of...\n",
       "636116  Credit card or prepaid card  Chase Bank is reporting a negative charge off ...\n",
       "663682  Credit card or prepaid card  Since Synchronicity bank replace XXXX XX/XX/20...\n",
       "645824  Credit card or prepaid card  I received a collection letter from XXXX in XX...\n",
       "675567  Credit card or prepaid card  Capital One allowed a charge of {$1200.00} to ...\n",
       "224729  Credit card or prepaid card  I have not been getting my statement and when ...\n",
       "845167  Credit card or prepaid card  I called customer service at XXXX at the numbe...\n",
       "749944  Credit card or prepaid card  Bank of America has an old debt of mine that t...\n",
       "783908  Credit card or prepaid card  On XXXX XXXX, 2015 I received a bill of {$60.0..."
      ]
     },
     "metadata": {
      "tags": []
     },
     "output_type": "display_data"
    },
    {
     "name": "stdout",
     "output_type": "stream",
     "text": [
      "\n",
      "'Credit reporting, repair, or other' predicted as 'Credit card or prepaid card' : 22 examples.\n"
     ]
    },
    {
     "data": {
      "text/html": [
       "<div>\n",
       "<style scoped>\n",
       "    .dataframe tbody tr th:only-of-type {\n",
       "        vertical-align: middle;\n",
       "    }\n",
       "\n",
       "    .dataframe tbody tr th {\n",
       "        vertical-align: top;\n",
       "    }\n",
       "\n",
       "    .dataframe thead th {\n",
       "        text-align: right;\n",
       "    }\n",
       "</style>\n",
       "<table border=\"1\" class=\"dataframe\">\n",
       "  <thead>\n",
       "    <tr style=\"text-align: right;\">\n",
       "      <th></th>\n",
       "      <th>Product</th>\n",
       "      <th>Consumer_complaint</th>\n",
       "    </tr>\n",
       "  </thead>\n",
       "  <tbody>\n",
       "    <tr>\n",
       "      <th>184965</th>\n",
       "      <td>Credit reporting, repair, or other</td>\n",
       "      <td>XXXX is a company of XXXX and XXXX XXXX  up my...</td>\n",
       "    </tr>\n",
       "    <tr>\n",
       "      <th>846410</th>\n",
       "      <td>Credit reporting, repair, or other</td>\n",
       "      <td>There is incorrect credit card showing up on m...</td>\n",
       "    </tr>\n",
       "    <tr>\n",
       "      <th>192020</th>\n",
       "      <td>Credit reporting, repair, or other</td>\n",
       "      <td>I went to the Capital One web site to apply fo...</td>\n",
       "    </tr>\n",
       "    <tr>\n",
       "      <th>265650</th>\n",
       "      <td>Credit reporting, repair, or other</td>\n",
       "      <td>XXXX XXXX XXXX reported my account as charged ...</td>\n",
       "    </tr>\n",
       "    <tr>\n",
       "      <th>301997</th>\n",
       "      <td>Credit reporting, repair, or other</td>\n",
       "      <td>XXXX Barclay , XXXX and XXXX are not updating ...</td>\n",
       "    </tr>\n",
       "    <tr>\n",
       "      <th>473355</th>\n",
       "      <td>Credit reporting, repair, or other</td>\n",
       "      <td>Company : USAA Summary of events : About XXXX ...</td>\n",
       "    </tr>\n",
       "    <tr>\n",
       "      <th>257154</th>\n",
       "      <td>Credit reporting, repair, or other</td>\n",
       "      <td>I had an automatic payment of {$50.00} schedul...</td>\n",
       "    </tr>\n",
       "    <tr>\n",
       "      <th>168845</th>\n",
       "      <td>Credit reporting, repair, or other</td>\n",
       "      <td>It percieved XXXX and other credit reporting a...</td>\n",
       "    </tr>\n",
       "    <tr>\n",
       "      <th>421206</th>\n",
       "      <td>Credit reporting, repair, or other</td>\n",
       "      <td>Unable to get by bots or reach by telephone. C...</td>\n",
       "    </tr>\n",
       "    <tr>\n",
       "      <th>49300</th>\n",
       "      <td>Credit reporting, repair, or other</td>\n",
       "      <td>In XX/XX/XXXX I needed a credit card to use to...</td>\n",
       "    </tr>\n",
       "    <tr>\n",
       "      <th>426514</th>\n",
       "      <td>Credit reporting, repair, or other</td>\n",
       "      <td>I was never eligible to receive a credit card ...</td>\n",
       "    </tr>\n",
       "    <tr>\n",
       "      <th>43521</th>\n",
       "      <td>Credit reporting, repair, or other</td>\n",
       "      <td>I have a CitiBank Citicard XXXX XXXX credit ca...</td>\n",
       "    </tr>\n",
       "    <tr>\n",
       "      <th>212148</th>\n",
       "      <td>Credit reporting, repair, or other</td>\n",
       "      <td>Someone keeps trying to apply for credit cards...</td>\n",
       "    </tr>\n",
       "    <tr>\n",
       "      <th>582339</th>\n",
       "      <td>Credit reporting, repair, or other</td>\n",
       "      <td>Capital one ending in XXXX lost XXXX of my pay...</td>\n",
       "    </tr>\n",
       "    <tr>\n",
       "      <th>464320</th>\n",
       "      <td>Credit reporting, repair, or other</td>\n",
       "      <td>Called in to customer svc to make XXXX payment...</td>\n",
       "    </tr>\n",
       "    <tr>\n",
       "      <th>107395</th>\n",
       "      <td>Credit reporting, repair, or other</td>\n",
       "      <td>I believe I reported this problem to you previ...</td>\n",
       "    </tr>\n",
       "    <tr>\n",
       "      <th>650841</th>\n",
       "      <td>Credit reporting, repair, or other</td>\n",
       "      <td>I have a XXXX Account for many years and have ...</td>\n",
       "    </tr>\n",
       "    <tr>\n",
       "      <th>361351</th>\n",
       "      <td>Credit reporting, repair, or other</td>\n",
       "      <td>A Sears worker tricked me into applying for a ...</td>\n",
       "    </tr>\n",
       "    <tr>\n",
       "      <th>154847</th>\n",
       "      <td>Credit reporting, repair, or other</td>\n",
       "      <td>XXXX XXXX credit card I dont have the exact am...</td>\n",
       "    </tr>\n",
       "    <tr>\n",
       "      <th>181829</th>\n",
       "      <td>Credit reporting, repair, or other</td>\n",
       "      <td>There are items still showing up on my credit ...</td>\n",
       "    </tr>\n",
       "    <tr>\n",
       "      <th>246980</th>\n",
       "      <td>Credit reporting, repair, or other</td>\n",
       "      <td>My credit report is stating that I have four (...</td>\n",
       "    </tr>\n",
       "    <tr>\n",
       "      <th>93966</th>\n",
       "      <td>Credit reporting, repair, or other</td>\n",
       "      <td>Dear Sir/Madan, We reported Credit Card lost i...</td>\n",
       "    </tr>\n",
       "  </tbody>\n",
       "</table>\n",
       "</div>"
      ],
      "text/plain": [
       "                                   Product                                 Consumer_complaint\n",
       "184965  Credit reporting, repair, or other  XXXX is a company of XXXX and XXXX XXXX  up my...\n",
       "846410  Credit reporting, repair, or other  There is incorrect credit card showing up on m...\n",
       "192020  Credit reporting, repair, or other  I went to the Capital One web site to apply fo...\n",
       "265650  Credit reporting, repair, or other  XXXX XXXX XXXX reported my account as charged ...\n",
       "301997  Credit reporting, repair, or other  XXXX Barclay , XXXX and XXXX are not updating ...\n",
       "473355  Credit reporting, repair, or other  Company : USAA Summary of events : About XXXX ...\n",
       "257154  Credit reporting, repair, or other  I had an automatic payment of {$50.00} schedul...\n",
       "168845  Credit reporting, repair, or other  It percieved XXXX and other credit reporting a...\n",
       "421206  Credit reporting, repair, or other  Unable to get by bots or reach by telephone. C...\n",
       "49300   Credit reporting, repair, or other  In XX/XX/XXXX I needed a credit card to use to...\n",
       "426514  Credit reporting, repair, or other  I was never eligible to receive a credit card ...\n",
       "43521   Credit reporting, repair, or other  I have a CitiBank Citicard XXXX XXXX credit ca...\n",
       "212148  Credit reporting, repair, or other  Someone keeps trying to apply for credit cards...\n",
       "582339  Credit reporting, repair, or other  Capital one ending in XXXX lost XXXX of my pay...\n",
       "464320  Credit reporting, repair, or other  Called in to customer svc to make XXXX payment...\n",
       "107395  Credit reporting, repair, or other  I believe I reported this problem to you previ...\n",
       "650841  Credit reporting, repair, or other  I have a XXXX Account for many years and have ...\n",
       "361351  Credit reporting, repair, or other  A Sears worker tricked me into applying for a ...\n",
       "154847  Credit reporting, repair, or other  XXXX XXXX credit card I dont have the exact am...\n",
       "181829  Credit reporting, repair, or other  There are items still showing up on my credit ...\n",
       "246980  Credit reporting, repair, or other  My credit report is stating that I have four (...\n",
       "93966   Credit reporting, repair, or other  Dear Sir/Madan, We reported Credit Card lost i..."
      ]
     },
     "metadata": {
      "tags": []
     },
     "output_type": "display_data"
    },
    {
     "name": "stdout",
     "output_type": "stream",
     "text": [
      "\n",
      "'Bank account or service' predicted as 'Checking or savings account' : 23 examples.\n"
     ]
    },
    {
     "data": {
      "text/html": [
       "<div>\n",
       "<style scoped>\n",
       "    .dataframe tbody tr th:only-of-type {\n",
       "        vertical-align: middle;\n",
       "    }\n",
       "\n",
       "    .dataframe tbody tr th {\n",
       "        vertical-align: top;\n",
       "    }\n",
       "\n",
       "    .dataframe thead th {\n",
       "        text-align: right;\n",
       "    }\n",
       "</style>\n",
       "<table border=\"1\" class=\"dataframe\">\n",
       "  <thead>\n",
       "    <tr style=\"text-align: right;\">\n",
       "      <th></th>\n",
       "      <th>Product</th>\n",
       "      <th>Consumer_complaint</th>\n",
       "    </tr>\n",
       "  </thead>\n",
       "  <tbody>\n",
       "    <tr>\n",
       "      <th>655179</th>\n",
       "      <td>Bank account or service</td>\n",
       "      <td>My email is XXXXXXXXXXXX and I never got to pr...</td>\n",
       "    </tr>\n",
       "    <tr>\n",
       "      <th>540543</th>\n",
       "      <td>Bank account or service</td>\n",
       "      <td>HSBC refuses to confirm the date my account wa...</td>\n",
       "    </tr>\n",
       "    <tr>\n",
       "      <th>655963</th>\n",
       "      <td>Bank account or service</td>\n",
       "      <td>Bank of America has charged me numerous XXXX f...</td>\n",
       "    </tr>\n",
       "    <tr>\n",
       "      <th>593920</th>\n",
       "      <td>Bank account or service</td>\n",
       "      <td>My complaint is with Capital One 360 ; they do...</td>\n",
       "    </tr>\n",
       "    <tr>\n",
       "      <th>692350</th>\n",
       "      <td>Bank account or service</td>\n",
       "      <td>My name is XXXX, I am my father 's heir &amp; the ...</td>\n",
       "    </tr>\n",
       "    <tr>\n",
       "      <th>760899</th>\n",
       "      <td>Bank account or service</td>\n",
       "      <td>I have a XXXX IRA with Capital One 360. My mob...</td>\n",
       "    </tr>\n",
       "    <tr>\n",
       "      <th>674009</th>\n",
       "      <td>Bank account or service</td>\n",
       "      <td>On XXXX XXXX 2016, I 'd visited the Wells Farg...</td>\n",
       "    </tr>\n",
       "    <tr>\n",
       "      <th>541558</th>\n",
       "      <td>Bank account or service</td>\n",
       "      <td>On XXXX my husband deposited {$400.00} through...</td>\n",
       "    </tr>\n",
       "    <tr>\n",
       "      <th>547387</th>\n",
       "      <td>Bank account or service</td>\n",
       "      <td>On XX/XX/XXXX, a merchant presented an electro...</td>\n",
       "    </tr>\n",
       "    <tr>\n",
       "      <th>816633</th>\n",
       "      <td>Bank account or service</td>\n",
       "      <td>On XXXX I deposited an insurance claim check (...</td>\n",
       "    </tr>\n",
       "    <tr>\n",
       "      <th>638111</th>\n",
       "      <td>Bank account or service</td>\n",
       "      <td>Numerous banks and credit unions offer peer-to...</td>\n",
       "    </tr>\n",
       "    <tr>\n",
       "      <th>821682</th>\n",
       "      <td>Bank account or service</td>\n",
       "      <td>I check my account every morning and noticed o...</td>\n",
       "    </tr>\n",
       "    <tr>\n",
       "      <th>689658</th>\n",
       "      <td>Bank account or service</td>\n",
       "      <td>I went into the branch of Chase Bank and reque...</td>\n",
       "    </tr>\n",
       "    <tr>\n",
       "      <th>573284</th>\n",
       "      <td>Bank account or service</td>\n",
       "      <td>Hello, I am writing to report what I believe t...</td>\n",
       "    </tr>\n",
       "    <tr>\n",
       "      <th>597151</th>\n",
       "      <td>Bank account or service</td>\n",
       "      <td>I had a small business merchant banking accoun...</td>\n",
       "    </tr>\n",
       "    <tr>\n",
       "      <th>677276</th>\n",
       "      <td>Bank account or service</td>\n",
       "      <td>PayPal closed my accounts and refused to rever...</td>\n",
       "    </tr>\n",
       "    <tr>\n",
       "      <th>894334</th>\n",
       "      <td>Bank account or service</td>\n",
       "      <td>Last year, I finished my unfinished basement. ...</td>\n",
       "    </tr>\n",
       "    <tr>\n",
       "      <th>659745</th>\n",
       "      <td>Bank account or service</td>\n",
       "      <td>We deposited a check into our business account...</td>\n",
       "    </tr>\n",
       "    <tr>\n",
       "      <th>777510</th>\n",
       "      <td>Bank account or service</td>\n",
       "      <td>I opened an account with Suntrust Bank and les...</td>\n",
       "    </tr>\n",
       "    <tr>\n",
       "      <th>696139</th>\n",
       "      <td>Bank account or service</td>\n",
       "      <td>My boyfriend and I have an account with US Ban...</td>\n",
       "    </tr>\n",
       "    <tr>\n",
       "      <th>755689</th>\n",
       "      <td>Bank account or service</td>\n",
       "      <td>My spouse &amp; i have banked with Wells Fargo for...</td>\n",
       "    </tr>\n",
       "    <tr>\n",
       "      <th>748135</th>\n",
       "      <td>Bank account or service</td>\n",
       "      <td>Chase bank re ordered the processing of debit ...</td>\n",
       "    </tr>\n",
       "    <tr>\n",
       "      <th>822616</th>\n",
       "      <td>Bank account or service</td>\n",
       "      <td>On XXXX/XXXX/15 I received an email that my ac...</td>\n",
       "    </tr>\n",
       "  </tbody>\n",
       "</table>\n",
       "</div>"
      ],
      "text/plain": [
       "                        Product                                 Consumer_complaint\n",
       "655179  Bank account or service  My email is XXXXXXXXXXXX and I never got to pr...\n",
       "540543  Bank account or service  HSBC refuses to confirm the date my account wa...\n",
       "655963  Bank account or service  Bank of America has charged me numerous XXXX f...\n",
       "593920  Bank account or service  My complaint is with Capital One 360 ; they do...\n",
       "692350  Bank account or service  My name is XXXX, I am my father 's heir & the ...\n",
       "760899  Bank account or service  I have a XXXX IRA with Capital One 360. My mob...\n",
       "674009  Bank account or service  On XXXX XXXX 2016, I 'd visited the Wells Farg...\n",
       "541558  Bank account or service  On XXXX my husband deposited {$400.00} through...\n",
       "547387  Bank account or service  On XX/XX/XXXX, a merchant presented an electro...\n",
       "816633  Bank account or service  On XXXX I deposited an insurance claim check (...\n",
       "638111  Bank account or service  Numerous banks and credit unions offer peer-to...\n",
       "821682  Bank account or service  I check my account every morning and noticed o...\n",
       "689658  Bank account or service  I went into the branch of Chase Bank and reque...\n",
       "573284  Bank account or service  Hello, I am writing to report what I believe t...\n",
       "597151  Bank account or service  I had a small business merchant banking accoun...\n",
       "677276  Bank account or service  PayPal closed my accounts and refused to rever...\n",
       "894334  Bank account or service  Last year, I finished my unfinished basement. ...\n",
       "659745  Bank account or service  We deposited a check into our business account...\n",
       "777510  Bank account or service  I opened an account with Suntrust Bank and les...\n",
       "696139  Bank account or service  My boyfriend and I have an account with US Ban...\n",
       "755689  Bank account or service  My spouse & i have banked with Wells Fargo for...\n",
       "748135  Bank account or service  Chase bank re ordered the processing of debit ...\n",
       "822616  Bank account or service  On XXXX/XXXX/15 I received an email that my ac..."
      ]
     },
     "metadata": {
      "tags": []
     },
     "output_type": "display_data"
    },
    {
     "name": "stdout",
     "output_type": "stream",
     "text": [
      "\n"
     ]
    }
   ],
   "source": [
    "#Let’s have a look at the cases that were wrongly classified.\n",
    "for predicted in category_id_df.category_id:\n",
    "  for actual in category_id_df.category_id:\n",
    "    if predicted != actual and conf_mat[actual, predicted] >= 20:\n",
    "      print(\"'{}' predicted as '{}' : {} examples.\".format(id_to_category[actual], \n",
    "                                                           id_to_category[predicted], \n",
    "                                                           conf_mat[actual, predicted]))\n",
    "    \n",
    "      display(df2.loc[indices_test[(y_test == actual) & (y_pred == predicted)]][['Product', \n",
    "                                                                'Consumer_complaint']])\n",
    "      print('')"
   ]
  },
  {
   "cell_type": "code",
   "execution_count": 68,
   "metadata": {
    "colab": {
     "base_uri": "https://localhost:8080/"
    },
    "id": "hJFc4dJxGMjk",
    "outputId": "1f155480-4f1b-4661-f9ec-c2efdcfaf181"
   },
   "outputs": [
    {
     "name": "stdout",
     "output_type": "stream",
     "text": [
      "\n",
      "==> 'Bank account or service':\n",
      "  * Top unigrams: bank, scottrade, deposit, suntrust\n",
      "  * Top bigrams: bank xxxx, check account, debit card, xx 2016\n",
      "\n",
      "==> 'Checking or savings account':\n",
      "  * Top unigrams: bank, transactions, bonus, branch\n",
      "  * Top bigrams: debit card, xxxx 2017, overdraft fees, account information\n",
      "\n",
      "==> 'Consumer Loan':\n",
      "  * Top unigrams: car, furniture, title, loan\n",
      "  * Top bigrams: vehicle loan, lien release, regional acceptance, xxxx constantly\n",
      "\n",
      "==> 'Credit card or prepaid card':\n",
      "  * Top unigrams: card, capital, citi, amex\n",
      "  * Top bigrams: american express, use card, balance transfer, annual fee\n",
      "\n",
      "==> 'Credit reporting, repair, or other':\n",
      "  * Top unigrams: equifax, experian, transunion, report\n",
      "  * Top bigrams: xxxx reported, equifax xxxx, xxxx xxxx, trans union\n",
      "\n",
      "==> 'Debt collection':\n",
      "  * Top unigrams: debt, collection, collections, owe\n",
      "  * Top bigrams: credit services, trying collect, violation knowledge, account credit\n",
      "\n",
      "==> 'Money transfer, virtual currency, or money service':\n",
      "  * Top unigrams: coinbase, seller, money, support\n",
      "  * Top bigrams: able receive, bank account, western union, money transfer\n",
      "\n",
      "==> 'Money transfers':\n",
      "  * Top unigrams: paypal, gram, moneygram, money\n",
      "  * Top bigrams: money gram, wire transfer, reported wrong, sending money\n",
      "\n",
      "==> 'Mortgage':\n",
      "  * Top unigrams: mortgage, escrow, modification, home\n",
      "  * Top bigrams: mortgage company, escrow account, home xxxx, mortgage xxxx\n",
      "\n",
      "==> 'Other financial service':\n",
      "  * Top unigrams: vast, productive, advertised, improvement\n",
      "  * Top bigrams: face face, stop payment, check payable, repair credit\n",
      "\n",
      "==> 'Payday loan, title loan, or personal loan':\n",
      "  * Top unigrams: loan, payday, apr, rate\n",
      "  * Top bigrams: ad astra, loan xx, payday loan, personal loan\n",
      "\n",
      "==> 'Student loan':\n",
      "  * Top unigrams: navient, loans, school, student\n",
      "  * Top bigrams: sallie mae, payments credit, student loan, income based\n",
      "\n",
      "==> 'Vehicle loan or lease':\n",
      "  * Top unigrams: vehicle, honda, lease, car\n",
      "  * Top bigrams: xxxx car, payments dates, account response, honda financial\n"
     ]
    }
   ],
   "source": [
    "#Most correlated terms with each category\n",
    "model.fit(features, labels)\n",
    "\n",
    "N = 4\n",
    "for Product, category_id in sorted(category_to_id.items()):\n",
    "  indices = np.argsort(model.coef_[category_id])\n",
    "  feature_names = np.array(tfidf.get_feature_names())[indices]\n",
    "  unigrams = [v for v in reversed(feature_names) if len(v.split(' ')) == 1][:N]\n",
    "  bigrams = [v for v in reversed(feature_names) if len(v.split(' ')) == 2][:N]\n",
    "  print(\"\\n==> '{}':\".format(Product))\n",
    "  print(\"  * Top unigrams: %s\" %(', '.join(unigrams)))\n",
    "  print(\"  * Top bigrams: %s\" %(', '.join(bigrams)))"
   ]
  },
  {
   "cell_type": "code",
   "execution_count": 69,
   "metadata": {
    "colab": {
     "base_uri": "https://localhost:8080/"
    },
    "id": "1ooB5Y2dGaOh",
    "outputId": "62eadbe9-7b3f-4972-cad2-180f7d2896bc"
   },
   "outputs": [
    {
     "data": {
      "text/plain": [
       "Pipeline(memory=None,\n",
       "         steps=[('vectorizer',\n",
       "                 TfidfVectorizer(analyzer='word', binary=False,\n",
       "                                 decode_error='strict',\n",
       "                                 dtype=<class 'numpy.float64'>,\n",
       "                                 encoding='utf-8', input='content',\n",
       "                                 lowercase=True, max_df=1.0, max_features=None,\n",
       "                                 min_df=5, ngram_range=(1, 2), norm='l2',\n",
       "                                 preprocessor=None, smooth_idf=True,\n",
       "                                 stop_words='english', strip_accents=None,\n",
       "                                 sublinear_tf=True,\n",
       "                                 token_pattern='(?u)\\\\b\\\\w\\\\w+\\\\b',\n",
       "                                 tokenizer=None, use_idf=True,\n",
       "                                 vocabulary=None)),\n",
       "                ('classifier',\n",
       "                 LinearSVC(C=1.0, class_weight=None, dual=True,\n",
       "                           fit_intercept=True, intercept_scaling=1,\n",
       "                           loss='squared_hinge', max_iter=1000,\n",
       "                           multi_class='ovr', penalty='l2', random_state=None,\n",
       "                           tol=0.0001, verbose=0))],\n",
       "         verbose=False)"
      ]
     },
     "execution_count": 69,
     "metadata": {
      "tags": []
     },
     "output_type": "execute_result"
    }
   ],
   "source": [
    "from sklearn.pipeline import Pipeline\n",
    "X_train, X_test, y_train, y_test = train_test_split(X, y, \n",
    "                                                    test_size=0.25,\n",
    "                                                    random_state = 0)\n",
    "\n",
    "tfidf = TfidfVectorizer(sublinear_tf=True, min_df=5,\n",
    "                        ngram_range=(1, 2), \n",
    "                        stop_words='english')\n",
    "clf2 = LinearSVC()\n",
    "model = Pipeline([('vectorizer',tfidf),('classifier',clf2)])\n",
    "\n",
    "model.fit(X_train, y_train)"
   ]
  },
  {
   "cell_type": "code",
   "execution_count": 73,
   "metadata": {
    "id": "Xln4fikKGfVo"
   },
   "outputs": [],
   "source": [
    "import joblib\n",
    "import pickle\n",
    "pickle.dump(model,open('complain.pkl','wb'))"
   ]
  },
  {
   "cell_type": "code",
   "execution_count": 74,
   "metadata": {
    "id": "HbqyQCrHG_EE"
   },
   "outputs": [],
   "source": [
    "load_model = pickle.load(open('complain.pkl','rb'))"
   ]
  },
  {
   "cell_type": "code",
   "execution_count": 71,
   "metadata": {
    "id": "9kqDKUNkI0t8"
   },
   "outputs": [],
   "source": []
  }
 ],
 "metadata": {
  "accelerator": "GPU",
  "colab": {
   "collapsed_sections": [],
   "machine_shape": "hm",
   "name": "RBM_25GBRAM_GPU Techhawa.ipynb",
   "provenance": []
  },
  "kernelspec": {
   "display_name": "Python 3",
   "language": "python",
   "name": "python3"
  },
  "language_info": {
   "codemirror_mode": {
    "name": "ipython",
    "version": 3
   },
   "file_extension": ".py",
   "mimetype": "text/x-python",
   "name": "python",
   "nbconvert_exporter": "python",
   "pygments_lexer": "ipython3",
   "version": "3.8.5"
  }
 },
 "nbformat": 4,
 "nbformat_minor": 1
}
